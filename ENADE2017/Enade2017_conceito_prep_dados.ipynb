{
 "cells": [
  {
   "cell_type": "markdown",
   "metadata": {},
   "source": [
    "# Análise Exploratória sobre o ENADE 2017\n",
    "\n",
    "[Link para download do dados](http://download.inep.gov.br/educacao_superior/indicadores/legislacao/2018/resultados_conceito_enade_2017.csv)"
   ]
  },
  {
   "cell_type": "code",
   "execution_count": 1,
   "metadata": {},
   "outputs": [],
   "source": [
    "import numpy as np\n",
    "import pandas as pd\n"
   ]
  },
  {
   "cell_type": "code",
   "execution_count": 2,
   "metadata": {
    "scrolled": true
   },
   "outputs": [],
   "source": [
    "conceito_ie = pd.read_csv('dados/resultados_conceito_enade_2017.csv')"
   ]
  },
  {
   "cell_type": "code",
   "execution_count": 3,
   "metadata": {},
   "outputs": [
    {
     "name": "stdout",
     "output_type": "stream",
     "text": [
      "<class 'pandas.core.frame.DataFrame'>\n",
      "RangeIndex: 10570 entries, 0 to 10569\n",
      "Data columns (total 22 columns):\n",
      "Ano                                 int64\n",
      "Código da Área                      int64\n",
      "Área de Avaliação                   object\n",
      "Código da IES                       int64\n",
      "Nome da IES                         object\n",
      "Sigla da IES                        object\n",
      "Organização Acadêmica               object\n",
      "Categoria Administrativa            object\n",
      "Código do Curso                     int64\n",
      "Modalidade de Ensino                object\n",
      "Código do Município                 int64\n",
      "Município do Curso                  object\n",
      "Sigla da UF                         object\n",
      "Nº de Concluintes Inscritos         int64\n",
      "Nº  de Concluintes Participantes    int64\n",
      "Nota Bruta - FG                     object\n",
      "Nota Padronizada - FG               object\n",
      "Nota Bruta - CE                     object\n",
      "Nota Padronizada - CE               object\n",
      "Conceito Enade (Contínuo)           object\n",
      "Conceito Enade (Faixa)              object\n",
      "Observação                          object\n",
      "dtypes: int64(7), object(15)\n",
      "memory usage: 1.8+ MB\n"
     ]
    }
   ],
   "source": [
    "conceito_ie.info(verbose = True, null_counts = False)"
   ]
  },
  {
   "cell_type": "code",
   "execution_count": 4,
   "metadata": {
    "scrolled": true
   },
   "outputs": [
    {
     "data": {
      "text/plain": [
       "Ano                                     0\n",
       "Código da Área                          0\n",
       "Área de Avaliação                       0\n",
       "Código da IES                           0\n",
       "Nome da IES                             0\n",
       "Sigla da IES                          651\n",
       "Organização Acadêmica                   0\n",
       "Categoria Administrativa                0\n",
       "Código do Curso                         0\n",
       "Modalidade de Ensino                    0\n",
       "Código do Município                     0\n",
       "Município do Curso                      0\n",
       "Sigla da UF                             0\n",
       "Nº de Concluintes Inscritos             0\n",
       "Nº  de Concluintes Participantes        0\n",
       "Nota Bruta - FG                       195\n",
       "Nota Padronizada - FG                 360\n",
       "Nota Bruta - CE                       195\n",
       "Nota Padronizada - CE                 360\n",
       "Conceito Enade (Contínuo)             360\n",
       "Conceito Enade (Faixa)                  0\n",
       "Observação                          10542\n",
       "dtype: int64"
      ]
     },
     "execution_count": 4,
     "metadata": {},
     "output_type": "execute_result"
    }
   ],
   "source": [
    "conceito_ie.isnull().sum()"
   ]
  },
  {
   "cell_type": "code",
   "execution_count": 41,
   "metadata": {},
   "outputs": [],
   "source": [
    "# Substituir o separador decimal ',' por '.' \n",
    "f = lambda x : (x.replace(',', '.'))\n",
    "# Carregando o datafram\n",
    "conceito_ie = pd.read_csv('dados/resultados_conceito_enade_2017.csv')\n",
    "#    converters={'Conceito Enade (Contínuo)':f})"
   ]
  },
  {
   "cell_type": "code",
   "execution_count": 42,
   "metadata": {},
   "outputs": [],
   "source": [
    "# Criando um novo dataframe a partir das colunas selecionadas\n",
    "conceitos = conceito_ie[['Código da Área', \n",
    "                      'Área de Avaliação',\n",
    "                      'Nome da IES',\n",
    "                      'Sigla da IES',\n",
    "                      'Categoria Administrativa',\n",
    "                      'Sigla da UF',\n",
    "                      'Conceito Enade (Faixa)']]\n",
    "# Renomeando as colunas\n",
    "conceitos.columns = ['cod_area', 'area_avaliacao', 'nome_ie', 'sigla_ie', 'categoria_adm', 'sigla_uf', 'conceito']\n",
    "# Visualizando as primeiras linhas do dataframe resultante"
   ]
  },
  {
   "cell_type": "code",
   "execution_count": 43,
   "metadata": {},
   "outputs": [],
   "source": [
    "\n",
    "# Separando apenas as respostas dos alunos das IES do nordeste\n",
    "uf_nordeste = ['MA', 'PI', 'CE', 'RN', 'PB', 'PE', 'AL', 'SE', 'BA']\n",
    "conceito_ccc_nordeste = pd.DataFrame()\n",
    "for uf in uf_nordeste:\n",
    "    temp = conceitos[conceitos['sigla_uf'] == uf]\n",
    "    conceito_ccc_nordeste = pd.concat([conceito_ccc_nordeste, temp])\n",
    "conceito_ccc_nordeste = conceito_ccc_nordeste.reset_index()"
   ]
  },
  {
   "cell_type": "code",
   "execution_count": 66,
   "metadata": {
    "scrolled": true
   },
   "outputs": [
    {
     "data": {
      "text/html": [
       "<div>\n",
       "<style scoped>\n",
       "    .dataframe tbody tr th:only-of-type {\n",
       "        vertical-align: middle;\n",
       "    }\n",
       "\n",
       "    .dataframe tbody tr th {\n",
       "        vertical-align: top;\n",
       "    }\n",
       "\n",
       "    .dataframe thead th {\n",
       "        text-align: right;\n",
       "    }\n",
       "</style>\n",
       "<table border=\"1\" class=\"dataframe\">\n",
       "  <thead>\n",
       "    <tr style=\"text-align: right;\">\n",
       "      <th></th>\n",
       "      <th>2</th>\n",
       "      <th>3</th>\n",
       "      <th>4</th>\n",
       "      <th>5</th>\n",
       "      <th>6</th>\n",
       "      <th>7</th>\n",
       "      <th>8</th>\n",
       "      <th>13</th>\n",
       "      <th>14</th>\n",
       "      <th>15</th>\n",
       "      <th>...</th>\n",
       "      <th>1973</th>\n",
       "      <th>1974</th>\n",
       "      <th>1976</th>\n",
       "      <th>1978</th>\n",
       "      <th>1979</th>\n",
       "      <th>1990</th>\n",
       "      <th>1992</th>\n",
       "      <th>1993</th>\n",
       "      <th>1994</th>\n",
       "      <th>1995</th>\n",
       "    </tr>\n",
       "  </thead>\n",
       "  <tbody>\n",
       "    <tr>\n",
       "      <th>index</th>\n",
       "      <td>257</td>\n",
       "      <td>574</td>\n",
       "      <td>645</td>\n",
       "      <td>839</td>\n",
       "      <td>934</td>\n",
       "      <td>963</td>\n",
       "      <td>1140</td>\n",
       "      <td>1215</td>\n",
       "      <td>1216</td>\n",
       "      <td>1217</td>\n",
       "      <td>...</td>\n",
       "      <td>10216</td>\n",
       "      <td>10247</td>\n",
       "      <td>10268</td>\n",
       "      <td>10317</td>\n",
       "      <td>10325</td>\n",
       "      <td>10389</td>\n",
       "      <td>10423</td>\n",
       "      <td>10475</td>\n",
       "      <td>10529</td>\n",
       "      <td>10553</td>\n",
       "    </tr>\n",
       "    <tr>\n",
       "      <th>cod_area</th>\n",
       "      <td>21</td>\n",
       "      <td>72</td>\n",
       "      <td>72</td>\n",
       "      <td>79</td>\n",
       "      <td>79</td>\n",
       "      <td>701</td>\n",
       "      <td>702</td>\n",
       "      <td>702</td>\n",
       "      <td>702</td>\n",
       "      <td>702</td>\n",
       "      <td>...</td>\n",
       "      <td>6307</td>\n",
       "      <td>6307</td>\n",
       "      <td>6307</td>\n",
       "      <td>6405</td>\n",
       "      <td>6405</td>\n",
       "      <td>6407</td>\n",
       "      <td>6407</td>\n",
       "      <td>6409</td>\n",
       "      <td>6409</td>\n",
       "      <td>6409</td>\n",
       "    </tr>\n",
       "    <tr>\n",
       "      <th>area_avaliacao</th>\n",
       "      <td>ARQUITETURA E URBANISMO</td>\n",
       "      <td>TECNOLOGIA EM ANÁLISE E DESENVOLVIMENTO DE SIS...</td>\n",
       "      <td>TECNOLOGIA EM ANÁLISE E DESENVOLVIMENTO DE SIS...</td>\n",
       "      <td>TECNOLOGIA EM REDES DE COMPUTADORES</td>\n",
       "      <td>TECNOLOGIA EM REDES DE COMPUTADORES</td>\n",
       "      <td>MATEMÁTICA (BACHARELADO)</td>\n",
       "      <td>MATEMÁTICA (LICENCIATURA)</td>\n",
       "      <td>MATEMÁTICA (LICENCIATURA)</td>\n",
       "      <td>MATEMÁTICA (LICENCIATURA)</td>\n",
       "      <td>MATEMÁTICA (LICENCIATURA)</td>\n",
       "      <td>...</td>\n",
       "      <td>ENGENHARIA AMBIENTAL</td>\n",
       "      <td>ENGENHARIA AMBIENTAL</td>\n",
       "      <td>ENGENHARIA AMBIENTAL</td>\n",
       "      <td>ENGENHARIA FLORESTAL</td>\n",
       "      <td>ENGENHARIA FLORESTAL</td>\n",
       "      <td>Letras - Inglês</td>\n",
       "      <td>Letras - Inglês</td>\n",
       "      <td>TECNOLOGIA EM GESTÃO DA TECNOLOGIA DA INFORMAÇÃO</td>\n",
       "      <td>TECNOLOGIA EM GESTÃO DA TECNOLOGIA DA INFORMAÇÃO</td>\n",
       "      <td>TECNOLOGIA EM GESTÃO DA TECNOLOGIA DA INFORMAÇÃO</td>\n",
       "    </tr>\n",
       "    <tr>\n",
       "      <th>nome_ie</th>\n",
       "      <td>UNIDADE DE ENSINO SUPERIOR DOM BOSCO</td>\n",
       "      <td>FACULDADE DO MARANHÃO</td>\n",
       "      <td>FACULDADE DE CIÊNCIAS E TECNOLOGIA DO MARANHÃO</td>\n",
       "      <td>FACULDADE PITÁGORAS DO MARANHÃO</td>\n",
       "      <td>FACULDADE LABORO</td>\n",
       "      <td>UNIVERSIDADE FEDERAL DO MARANHÃO</td>\n",
       "      <td>UNIVERSIDADE FEDERAL DO MARANHÃO</td>\n",
       "      <td>INSTITUTO FEDERAL DE EDUCAÇÃO, CIÊNCIA E TECNO...</td>\n",
       "      <td>INSTITUTO FEDERAL DE EDUCAÇÃO, CIÊNCIA E TECNO...</td>\n",
       "      <td>INSTITUTO FEDERAL DE EDUCAÇÃO, CIÊNCIA E TECNO...</td>\n",
       "      <td>...</td>\n",
       "      <td>Centro Universitário Regional do Brasil</td>\n",
       "      <td>UNIVERSIDADE FEDERAL DO RECÔNCAVO DA BAHIA</td>\n",
       "      <td>UNIVERSIDADE FEDERAL DO OESTE DA BAHIA</td>\n",
       "      <td>FACULDADE PITÁGORAS DE TEIXEIRA DE FREITAS</td>\n",
       "      <td>UNIVERSIDADE FEDERAL DO RECÔNCAVO DA BAHIA</td>\n",
       "      <td>UNIVERSIDADE FEDERAL DA BAHIA</td>\n",
       "      <td>FACULDADE DOM PEDRO II</td>\n",
       "      <td>FACULDADE RUY BARBOSA WYDEN</td>\n",
       "      <td>Centro Universitário FG</td>\n",
       "      <td>FACULDADE DOM PEDRO II DE TECNOLOGIA</td>\n",
       "    </tr>\n",
       "    <tr>\n",
       "      <th>sigla_ie</th>\n",
       "      <td>UNDB</td>\n",
       "      <td>FACAM-MA</td>\n",
       "      <td>FACEMA</td>\n",
       "      <td>NaN</td>\n",
       "      <td>Laboro</td>\n",
       "      <td>UFMA</td>\n",
       "      <td>UFMA</td>\n",
       "      <td>IFMA</td>\n",
       "      <td>IFMA</td>\n",
       "      <td>IFMA</td>\n",
       "      <td>...</td>\n",
       "      <td>NaN</td>\n",
       "      <td>UFRB</td>\n",
       "      <td>UFOB</td>\n",
       "      <td>PIT TEIXEIRA</td>\n",
       "      <td>UFRB</td>\n",
       "      <td>UFBA</td>\n",
       "      <td>FDPII</td>\n",
       "      <td>FRB WYDEN</td>\n",
       "      <td>UNIFG</td>\n",
       "      <td>FAB</td>\n",
       "    </tr>\n",
       "    <tr>\n",
       "      <th>categoria_adm</th>\n",
       "      <td>Privada</td>\n",
       "      <td>Privada</td>\n",
       "      <td>Privada</td>\n",
       "      <td>Privada</td>\n",
       "      <td>Privada</td>\n",
       "      <td>Publica</td>\n",
       "      <td>Publica</td>\n",
       "      <td>Publica</td>\n",
       "      <td>Publica</td>\n",
       "      <td>Publica</td>\n",
       "      <td>...</td>\n",
       "      <td>Privada</td>\n",
       "      <td>Publica</td>\n",
       "      <td>Publica</td>\n",
       "      <td>Privada</td>\n",
       "      <td>Publica</td>\n",
       "      <td>Publica</td>\n",
       "      <td>Privada</td>\n",
       "      <td>Privada</td>\n",
       "      <td>Privada</td>\n",
       "      <td>Privada</td>\n",
       "    </tr>\n",
       "    <tr>\n",
       "      <th>sigla_uf</th>\n",
       "      <td>MA</td>\n",
       "      <td>MA</td>\n",
       "      <td>MA</td>\n",
       "      <td>MA</td>\n",
       "      <td>MA</td>\n",
       "      <td>MA</td>\n",
       "      <td>MA</td>\n",
       "      <td>MA</td>\n",
       "      <td>MA</td>\n",
       "      <td>MA</td>\n",
       "      <td>...</td>\n",
       "      <td>BA</td>\n",
       "      <td>BA</td>\n",
       "      <td>BA</td>\n",
       "      <td>BA</td>\n",
       "      <td>BA</td>\n",
       "      <td>BA</td>\n",
       "      <td>BA</td>\n",
       "      <td>BA</td>\n",
       "      <td>BA</td>\n",
       "      <td>BA</td>\n",
       "    </tr>\n",
       "    <tr>\n",
       "      <th>conceito</th>\n",
       "      <td>4</td>\n",
       "      <td>2</td>\n",
       "      <td>3</td>\n",
       "      <td>2</td>\n",
       "      <td>4</td>\n",
       "      <td>2</td>\n",
       "      <td>3</td>\n",
       "      <td>3</td>\n",
       "      <td>2</td>\n",
       "      <td>1</td>\n",
       "      <td>...</td>\n",
       "      <td>2</td>\n",
       "      <td>3</td>\n",
       "      <td>4</td>\n",
       "      <td>2</td>\n",
       "      <td>2</td>\n",
       "      <td>4</td>\n",
       "      <td>2</td>\n",
       "      <td>5</td>\n",
       "      <td>2</td>\n",
       "      <td>3</td>\n",
       "    </tr>\n",
       "  </tbody>\n",
       "</table>\n",
       "<p>8 rows × 1199 columns</p>\n",
       "</div>"
      ],
      "text/plain": [
       "                                                2     \\\n",
       "index                                            257   \n",
       "cod_area                                          21   \n",
       "area_avaliacao               ARQUITETURA E URBANISMO   \n",
       "nome_ie         UNIDADE DE ENSINO SUPERIOR DOM BOSCO   \n",
       "sigla_ie                                        UNDB   \n",
       "categoria_adm                                Privada   \n",
       "sigla_uf                                          MA   \n",
       "conceito                                           4   \n",
       "\n",
       "                                                             3     \\\n",
       "index                                                         574   \n",
       "cod_area                                                       72   \n",
       "area_avaliacao  TECNOLOGIA EM ANÁLISE E DESENVOLVIMENTO DE SIS...   \n",
       "nome_ie                                     FACULDADE DO MARANHÃO   \n",
       "sigla_ie                                                 FACAM-MA   \n",
       "categoria_adm                                             Privada   \n",
       "sigla_uf                                                       MA   \n",
       "conceito                                                        2   \n",
       "\n",
       "                                                             4     \\\n",
       "index                                                         645   \n",
       "cod_area                                                       72   \n",
       "area_avaliacao  TECNOLOGIA EM ANÁLISE E DESENVOLVIMENTO DE SIS...   \n",
       "nome_ie            FACULDADE DE CIÊNCIAS E TECNOLOGIA DO MARANHÃO   \n",
       "sigla_ie                                                   FACEMA   \n",
       "categoria_adm                                             Privada   \n",
       "sigla_uf                                                       MA   \n",
       "conceito                                                        3   \n",
       "\n",
       "                                               5     \\\n",
       "index                                           839   \n",
       "cod_area                                         79   \n",
       "area_avaliacao  TECNOLOGIA EM REDES DE COMPUTADORES   \n",
       "nome_ie             FACULDADE PITÁGORAS DO MARANHÃO   \n",
       "sigla_ie                                        NaN   \n",
       "categoria_adm                               Privada   \n",
       "sigla_uf                                         MA   \n",
       "conceito                                          2   \n",
       "\n",
       "                                               6     \\\n",
       "index                                           934   \n",
       "cod_area                                         79   \n",
       "area_avaliacao  TECNOLOGIA EM REDES DE COMPUTADORES   \n",
       "nome_ie                            FACULDADE LABORO   \n",
       "sigla_ie                                     Laboro   \n",
       "categoria_adm                               Privada   \n",
       "sigla_uf                                         MA   \n",
       "conceito                                          4   \n",
       "\n",
       "                                            7     \\\n",
       "index                                        963   \n",
       "cod_area                                     701   \n",
       "area_avaliacao          MATEMÁTICA (BACHARELADO)   \n",
       "nome_ie         UNIVERSIDADE FEDERAL DO MARANHÃO   \n",
       "sigla_ie                                    UFMA   \n",
       "categoria_adm                            Publica   \n",
       "sigla_uf                                      MA   \n",
       "conceito                                       2   \n",
       "\n",
       "                                            8     \\\n",
       "index                                       1140   \n",
       "cod_area                                     702   \n",
       "area_avaliacao         MATEMÁTICA (LICENCIATURA)   \n",
       "nome_ie         UNIVERSIDADE FEDERAL DO MARANHÃO   \n",
       "sigla_ie                                    UFMA   \n",
       "categoria_adm                            Publica   \n",
       "sigla_uf                                      MA   \n",
       "conceito                                       3   \n",
       "\n",
       "                                                             13    \\\n",
       "index                                                        1215   \n",
       "cod_area                                                      702   \n",
       "area_avaliacao                          MATEMÁTICA (LICENCIATURA)   \n",
       "nome_ie         INSTITUTO FEDERAL DE EDUCAÇÃO, CIÊNCIA E TECNO...   \n",
       "sigla_ie                                                     IFMA   \n",
       "categoria_adm                                             Publica   \n",
       "sigla_uf                                                       MA   \n",
       "conceito                                                        3   \n",
       "\n",
       "                                                             14    \\\n",
       "index                                                        1216   \n",
       "cod_area                                                      702   \n",
       "area_avaliacao                          MATEMÁTICA (LICENCIATURA)   \n",
       "nome_ie         INSTITUTO FEDERAL DE EDUCAÇÃO, CIÊNCIA E TECNO...   \n",
       "sigla_ie                                                     IFMA   \n",
       "categoria_adm                                             Publica   \n",
       "sigla_uf                                                       MA   \n",
       "conceito                                                        2   \n",
       "\n",
       "                                                             15    \\\n",
       "index                                                        1217   \n",
       "cod_area                                                      702   \n",
       "area_avaliacao                          MATEMÁTICA (LICENCIATURA)   \n",
       "nome_ie         INSTITUTO FEDERAL DE EDUCAÇÃO, CIÊNCIA E TECNO...   \n",
       "sigla_ie                                                     IFMA   \n",
       "categoria_adm                                             Publica   \n",
       "sigla_uf                                                       MA   \n",
       "conceito                                                        1   \n",
       "\n",
       "                                      ...                         \\\n",
       "index                                 ...                          \n",
       "cod_area                              ...                          \n",
       "area_avaliacao                        ...                          \n",
       "nome_ie                               ...                          \n",
       "sigla_ie                              ...                          \n",
       "categoria_adm                         ...                          \n",
       "sigla_uf                              ...                          \n",
       "conceito                              ...                          \n",
       "\n",
       "                                                   1973  \\\n",
       "index                                             10216   \n",
       "cod_area                                           6307   \n",
       "area_avaliacao                     ENGENHARIA AMBIENTAL   \n",
       "nome_ie         Centro Universitário Regional do Brasil   \n",
       "sigla_ie                                            NaN   \n",
       "categoria_adm                                   Privada   \n",
       "sigla_uf                                             BA   \n",
       "conceito                                              2   \n",
       "\n",
       "                                                      1974  \\\n",
       "index                                                10247   \n",
       "cod_area                                              6307   \n",
       "area_avaliacao                        ENGENHARIA AMBIENTAL   \n",
       "nome_ie         UNIVERSIDADE FEDERAL DO RECÔNCAVO DA BAHIA   \n",
       "sigla_ie                                              UFRB   \n",
       "categoria_adm                                      Publica   \n",
       "sigla_uf                                                BA   \n",
       "conceito                                                 3   \n",
       "\n",
       "                                                  1976  \\\n",
       "index                                            10268   \n",
       "cod_area                                          6307   \n",
       "area_avaliacao                    ENGENHARIA AMBIENTAL   \n",
       "nome_ie         UNIVERSIDADE FEDERAL DO OESTE DA BAHIA   \n",
       "sigla_ie                                          UFOB   \n",
       "categoria_adm                                  Publica   \n",
       "sigla_uf                                            BA   \n",
       "conceito                                             4   \n",
       "\n",
       "                                                      1978  \\\n",
       "index                                                10317   \n",
       "cod_area                                              6405   \n",
       "area_avaliacao                        ENGENHARIA FLORESTAL   \n",
       "nome_ie         FACULDADE PITÁGORAS DE TEIXEIRA DE FREITAS   \n",
       "sigla_ie                                      PIT TEIXEIRA   \n",
       "categoria_adm                                      Privada   \n",
       "sigla_uf                                                BA   \n",
       "conceito                                                 2   \n",
       "\n",
       "                                                      1979  \\\n",
       "index                                                10325   \n",
       "cod_area                                              6405   \n",
       "area_avaliacao                        ENGENHARIA FLORESTAL   \n",
       "nome_ie         UNIVERSIDADE FEDERAL DO RECÔNCAVO DA BAHIA   \n",
       "sigla_ie                                              UFRB   \n",
       "categoria_adm                                      Publica   \n",
       "sigla_uf                                                BA   \n",
       "conceito                                                 2   \n",
       "\n",
       "                                         1990                    1992  \\\n",
       "index                                   10389                   10423   \n",
       "cod_area                                 6407                    6407   \n",
       "area_avaliacao                Letras - Inglês         Letras - Inglês   \n",
       "nome_ie         UNIVERSIDADE FEDERAL DA BAHIA  FACULDADE DOM PEDRO II   \n",
       "sigla_ie                                 UFBA                   FDPII   \n",
       "categoria_adm                         Publica                 Privada   \n",
       "sigla_uf                                   BA                      BA   \n",
       "conceito                                    4                       2   \n",
       "\n",
       "                                                            1993  \\\n",
       "index                                                      10475   \n",
       "cod_area                                                    6409   \n",
       "area_avaliacao  TECNOLOGIA EM GESTÃO DA TECNOLOGIA DA INFORMAÇÃO   \n",
       "nome_ie                              FACULDADE RUY BARBOSA WYDEN   \n",
       "sigla_ie                                               FRB WYDEN   \n",
       "categoria_adm                                            Privada   \n",
       "sigla_uf                                                      BA   \n",
       "conceito                                                       5   \n",
       "\n",
       "                                                            1994  \\\n",
       "index                                                      10529   \n",
       "cod_area                                                    6409   \n",
       "area_avaliacao  TECNOLOGIA EM GESTÃO DA TECNOLOGIA DA INFORMAÇÃO   \n",
       "nome_ie                                  Centro Universitário FG   \n",
       "sigla_ie                                                   UNIFG   \n",
       "categoria_adm                                            Privada   \n",
       "sigla_uf                                                      BA   \n",
       "conceito                                                       2   \n",
       "\n",
       "                                                            1995  \n",
       "index                                                      10553  \n",
       "cod_area                                                    6409  \n",
       "area_avaliacao  TECNOLOGIA EM GESTÃO DA TECNOLOGIA DA INFORMAÇÃO  \n",
       "nome_ie                     FACULDADE DOM PEDRO II DE TECNOLOGIA  \n",
       "sigla_ie                                                     FAB  \n",
       "categoria_adm                                            Privada  \n",
       "sigla_uf                                                      BA  \n",
       "conceito                                                       3  \n",
       "\n",
       "[8 rows x 1199 columns]"
      ]
     },
     "execution_count": 66,
     "metadata": {},
     "output_type": "execute_result"
    }
   ],
   "source": [
    "# Filtrando as universidades publicas federais e privadas com fins lucrativos\n",
    "pubpriv = conceito_ccc_nordeste[(conceito_ccc_nordeste['categoria_adm'] == 'Privada') | (conceito_ccc_nordeste['categoria_adm'] == 'Publica')]\n",
    "# Visualizando o dataframe\n",
    "\n",
    "pubpriv = pubpriv[pubpriv['conceito'] != 'SC']\n",
    "pubpriv.T\n"
   ]
  },
  {
   "cell_type": "code",
   "execution_count": 67,
   "metadata": {},
   "outputs": [
    {
     "data": {
      "text/plain": [
       "Publica    752\n",
       "Privada    447\n",
       "Name: categoria_adm, dtype: int64"
      ]
     },
     "execution_count": 67,
     "metadata": {},
     "output_type": "execute_result"
    }
   ],
   "source": [
    "categoria_adm = pubpriv['categoria_adm'].value_counts()\n",
    "categoria_adm"
   ]
  },
  {
   "cell_type": "code",
   "execution_count": 68,
   "metadata": {},
   "outputs": [],
   "source": [
    "pubpriv['conceito'] = pubpriv['conceito'].astype(int)"
   ]
  },
  {
   "cell_type": "code",
   "execution_count": 69,
   "metadata": {
    "scrolled": true
   },
   "outputs": [
    {
     "data": {
      "text/plain": [
       "0.6271893244370309"
      ]
     },
     "execution_count": 69,
     "metadata": {},
     "output_type": "execute_result"
    }
   ],
   "source": [
    "pubpriv['categoria_adm'].value_counts(normalize=True)[0]"
   ]
  },
  {
   "cell_type": "code",
   "execution_count": 70,
   "metadata": {
    "scrolled": true
   },
   "outputs": [],
   "source": [
    "# Suprimindo os warnings da biblioteca pandas\n",
    "pd.options.mode.chained_assignment = None\n",
    "# Bibliotecas necessárias para plotar as vizualizações\n",
    "import matplotlib.pyplot as plt\n",
    "import matplotlib.patches as mpatches\n",
    "import matplotlib.ticker as mtick\n",
    "plt.style.use('ggplot')\n",
    "\n",
    "import seaborn as sns\n",
    "sns.set_style('whitegrid')\n",
    "%matplotlib inline\n",
    "# Definir o tamanho e a resolução em DPI(Dots Per Inch) das figuras plotadas.\n",
    "plt.rcParams.update({'figure.figsize':(6,4), 'figure.dpi':100})\n",
    "# Definir o estilo dos gráficos semelhantes ao ggplot\n",
    "plt.style.use('seaborn-whitegrid')\n",
    "#plt.style.use('ggplot')\n"
   ]
  },
  {
   "cell_type": "code",
   "execution_count": 71,
   "metadata": {
    "scrolled": true
   },
   "outputs": [
    {
     "data": {
      "text/plain": [
       "Publica    752\n",
       "Privada    447\n",
       "Name: categoria_adm, dtype: int64"
      ]
     },
     "execution_count": 71,
     "metadata": {},
     "output_type": "execute_result"
    }
   ],
   "source": [
    "categoria_adm = pubpriv['categoria_adm'].value_counts()\n",
    "categoria_adm"
   ]
  },
  {
   "cell_type": "code",
   "execution_count": 72,
   "metadata": {
    "scrolled": false
   },
   "outputs": [
    {
     "data": {
      "image/png": "[encoded data removed]",
      "text/plain": [
       "<matplotlib.figure.Figure at 0x7fd8a4404e10>"
      ]
     },
     "metadata": {},
     "output_type": "display_data"
    }
   ],
   "source": [
    "fig = sns.FacetGrid(pubpriv, col='categoria_adm', hue='categoria_adm')\n",
    "fig.map(sns.distplot, 'conceito', kde=False, hist_kws={'alpha': .8})\n",
    "fig.add_legend()\n",
    "plt.show()"
   ]
  },
  {
   "cell_type": "markdown",
   "metadata": {},
   "source": [
    "## EDA"
   ]
  },
  {
   "cell_type": "code",
   "execution_count": 28,
   "metadata": {},
   "outputs": [
    {
     "ename": "ImportError",
     "evalue": "No module named matplotlib.pyplot",
     "output_type": "error",
     "traceback": [
      "\u001b[1;31m\u001b[0m",
      "\u001b[1;31mImportError\u001b[0mTraceback (most recent call last)",
      "\u001b[1;32m<ipython-input-28-756490e401f0>\u001b[0m in \u001b[0;36m<module>\u001b[1;34m()\u001b[0m\n\u001b[0;32m      2\u001b[0m \u001b[0mpd\u001b[0m\u001b[1;33m.\u001b[0m\u001b[0moptions\u001b[0m\u001b[1;33m.\u001b[0m\u001b[0mmode\u001b[0m\u001b[1;33m.\u001b[0m\u001b[0mchained_assignment\u001b[0m \u001b[1;33m=\u001b[0m \u001b[0mNone\u001b[0m\u001b[1;33m\u001b[0m\u001b[0m\n\u001b[0;32m      3\u001b[0m \u001b[1;31m# Bibliotecas de visualização de dados\u001b[0m\u001b[1;33m\u001b[0m\u001b[1;33m\u001b[0m\u001b[0m\n\u001b[1;32m----> 4\u001b[1;33m \u001b[1;32mimport\u001b[0m \u001b[0mmatplotlib\u001b[0m\u001b[1;33m.\u001b[0m\u001b[0mpyplot\u001b[0m \u001b[1;32mas\u001b[0m \u001b[0mplt\u001b[0m\u001b[1;33m\u001b[0m\u001b[0m\n\u001b[0m\u001b[0;32m      5\u001b[0m \u001b[1;32mimport\u001b[0m \u001b[0mmatplotlib\u001b[0m\u001b[1;33m.\u001b[0m\u001b[0mpatches\u001b[0m \u001b[1;32mas\u001b[0m \u001b[0mmpatches\u001b[0m\u001b[1;33m\u001b[0m\u001b[0m\n\u001b[0;32m      6\u001b[0m \u001b[1;32mimport\u001b[0m \u001b[0mmatplotlib\u001b[0m\u001b[1;33m.\u001b[0m\u001b[0mticker\u001b[0m \u001b[1;32mas\u001b[0m \u001b[0mmtick\u001b[0m\u001b[1;33m\u001b[0m\u001b[0m\n",
      "\u001b[1;31mImportError\u001b[0m: No module named matplotlib.pyplot"
     ]
    }
   ],
   "source": [
    "# Suprimindo os warnings da biblioteca pandas\n",
    "pd.options.mode.chained_assignment = None\n",
    "# Bibliotecas de visualização de dados\n",
    "import matplotlib.pyplot as plt\n",
    "import matplotlib.patches as mpatches\n",
    "import matplotlib.ticker as mtick\n",
    "import missingno as msno\n",
    "plt.style.use('ggplot')\n",
    "import seaborn as sns\n",
    "sns.set_style('whitegrid')\n",
    "%matplotlib inline"
   ]
  },
  {
   "cell_type": "code",
   "execution_count": 29,
   "metadata": {},
   "outputs": [
    {
     "ename": "NameError",
     "evalue": "name 'conceito_ccc_nordeste' is not defined",
     "output_type": "error",
     "traceback": [
      "\u001b[1;31m\u001b[0m",
      "\u001b[1;31mNameError\u001b[0mTraceback (most recent call last)",
      "\u001b[1;32m<ipython-input-29-06708d934ae4>\u001b[0m in \u001b[0;36m<module>\u001b[1;34m()\u001b[0m\n\u001b[0;32m      1\u001b[0m \u001b[1;31m# Convertendo a coluna 'CONCEITO_ENADA' para inteiro\u001b[0m\u001b[1;33m\u001b[0m\u001b[1;33m\u001b[0m\u001b[0m\n\u001b[1;32m----> 2\u001b[1;33m \u001b[0mconceito_ccc_nordeste\u001b[0m\u001b[1;33m[\u001b[0m\u001b[1;34m'CONCEITO_ENADE'\u001b[0m\u001b[1;33m]\u001b[0m \u001b[1;33m=\u001b[0m \u001b[0mconceito_ccc_nordeste\u001b[0m\u001b[1;33m[\u001b[0m\u001b[1;34m'CONCEITO_ENADE'\u001b[0m\u001b[1;33m]\u001b[0m\u001b[1;33m.\u001b[0m\u001b[0mastype\u001b[0m\u001b[1;33m(\u001b[0m\u001b[1;34m'int'\u001b[0m\u001b[1;33m)\u001b[0m\u001b[1;33m\u001b[0m\u001b[0m\n\u001b[0m",
      "\u001b[1;31mNameError\u001b[0m: name 'conceito_ccc_nordeste' is not defined"
     ]
    }
   ],
   "source": [
    "# Convertendo a coluna 'CONCEITO_ENADA' para inteiro\n",
    "conceito_ccc_nordeste['CONCEITO_ENADE'] = conceito_ccc_nordeste['CONCEITO_ENADE'].astype('int')"
   ]
  },
  {
   "cell_type": "code",
   "execution_count": 25,
   "metadata": {
    "scrolled": true
   },
   "outputs": [
    {
     "data": {
      "image/png": "[encoded data removed]",
      "text/plain": [
       "<Figure size 720x432 with 1 Axes>"
      ]
     },
     "metadata": {
      "needs_background": "light"
     },
     "output_type": "display_data"
    }
   ],
   "source": []
  },
  {
   "cell_type": "code",
   "execution_count": null,
   "metadata": {},
   "outputs": [],
   "source": []
  },
  {
   "cell_type": "code",
   "execution_count": null,
   "metadata": {},
   "outputs": [],
   "source": []
  }
 ],
 "metadata": {
  "kernelspec": {
   "display_name": "Python 2",
   "language": "python",
   "name": "python2"
  },
  "language_info": {
   "codemirror_mode": {
    "name": "ipython",
    "version": 2
   },
   "file_extension": ".py",
   "mimetype": "text/x-python",
   "name": "python",
   "nbconvert_exporter": "python",
   "pygments_lexer": "ipython2",
   "version": "2.7.15+"
  }
 },
 "nbformat": 4,
 "nbformat_minor": 2
}
