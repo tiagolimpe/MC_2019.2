{
 "cells": [
  {
   "cell_type": "markdown",
   "metadata": {},
   "source": [
    "# Análise Exploratória sobre o ENADE 2017\n",
    "\n",
    "[Link para download do dados](http://download.inep.gov.br/educacao_superior/indicadores/legislacao/2018/resultados_conceito_enade_2017.csv)"
   ]
  },
  {
   "cell_type": "code",
   "execution_count": 73,
   "metadata": {},
   "outputs": [],
   "source": [
    "import numpy as np\n",
    "import pandas as pd\n"
   ]
  },
  {
   "cell_type": "code",
   "execution_count": 74,
   "metadata": {
    "scrolled": true
   },
   "outputs": [],
   "source": [
    "conceito_ie = pd.read_csv('dados/resultados_conceito_enade_2017.csv')"
   ]
  },
  {
   "cell_type": "code",
   "execution_count": 76,
   "metadata": {},
   "outputs": [
    {
     "name": "stdout",
     "output_type": "stream",
     "text": [
      "<class 'pandas.core.frame.DataFrame'>\n",
      "RangeIndex: 10570 entries, 0 to 10569\n",
      "Data columns (total 22 columns):\n",
      "Ano                                 int64\n",
      "Código da Área                      int64\n",
      "Área de Avaliação                   object\n",
      "Código da IES                       int64\n",
      "Nome da IES                         object\n",
      "Sigla da IES                        object\n",
      "Organização Acadêmica               object\n",
      "Categoria Administrativa            object\n",
      "Código do Curso                     int64\n",
      "Modalidade de Ensino                object\n",
      "Código do Município                 int64\n",
      "Município do Curso                  object\n",
      "Sigla da UF                         object\n",
      "Nº de Concluintes Inscritos         int64\n",
      "Nº  de Concluintes Participantes    int64\n",
      "Nota Bruta - FG                     object\n",
      "Nota Padronizada - FG               object\n",
      "Nota Bruta - CE                     object\n",
      "Nota Padronizada - CE               object\n",
      "Conceito Enade (Contínuo)           object\n",
      "Conceito Enade (Faixa)              object\n",
      "Observação                          object\n",
      "dtypes: int64(7), object(15)\n",
      "memory usage: 1.8+ MB\n"
     ]
    }
   ],
   "source": [
    "conceito_ie.info(verbose = True, null_counts = False)"
   ]
  },
  {
   "cell_type": "code",
   "execution_count": 77,
   "metadata": {},
   "outputs": [
    {
     "data": {
      "text/plain": [
       "Ano                                     0\n",
       "Código da Área                          0\n",
       "Área de Avaliação                       0\n",
       "Código da IES                           0\n",
       "Nome da IES                             0\n",
       "Sigla da IES                          651\n",
       "Organização Acadêmica                   0\n",
       "Categoria Administrativa                0\n",
       "Código do Curso                         0\n",
       "Modalidade de Ensino                    0\n",
       "Código do Município                     0\n",
       "Município do Curso                      0\n",
       "Sigla da UF                             0\n",
       "Nº de Concluintes Inscritos             0\n",
       "Nº  de Concluintes Participantes        0\n",
       "Nota Bruta - FG                       195\n",
       "Nota Padronizada - FG                 360\n",
       "Nota Bruta - CE                       195\n",
       "Nota Padronizada - CE                 360\n",
       "Conceito Enade (Contínuo)             360\n",
       "Conceito Enade (Faixa)                  0\n",
       "Observação                          10542\n",
       "dtype: int64"
      ]
     },
     "execution_count": 77,
     "metadata": {},
     "output_type": "execute_result"
    }
   ],
   "source": [
    "conceito_ie.isnull().sum()"
   ]
  },
  {
   "cell_type": "code",
   "execution_count": 93,
   "metadata": {},
   "outputs": [],
   "source": [
    "# Carregando o datafram\n",
    "conceito_ie = pd.read_csv('dados/resultados_conceito_enade_2017.csv',\n",
    "                          dtype = {\n",
    "                              u'Conceito Enade (Contínuo)' : 'int64'\n",
    "                          })"
   ]
  },
  {
   "cell_type": "code",
   "execution_count": 94,
   "metadata": {},
   "outputs": [],
   "source": [
    "# Criando um novo dataframe a partir das colunas selecionadas\n",
    "conceitos = conceito_ie[['Código da Área', \n",
    "                      'Área de Avaliação',\n",
    "                      'Nome da IES',\n",
    "                      'Sigla da IES',\n",
    "                      'Categoria Administrativa',\n",
    "                      'Sigla da UF',\n",
    "                      'Conceito Enade (Contínuo)']]\n",
    "# Renomeando as colunas\n",
    "conceitos.columns = ['cod_area', 'area_avaliacao', 'nome_ie', 'sigla_ie', 'categoria_adm', 'sigla_uf', 'conceito']\n",
    "# Visualizando as primeiras linhas do dataframe resultante"
   ]
  },
  {
   "cell_type": "code",
   "execution_count": 95,
   "metadata": {
    "scrolled": true
   },
   "outputs": [
    {
     "data": {
      "text/html": [
       "<div>\n",
       "<style scoped>\n",
       "    .dataframe tbody tr th:only-of-type {\n",
       "        vertical-align: middle;\n",
       "    }\n",
       "\n",
       "    .dataframe tbody tr th {\n",
       "        vertical-align: top;\n",
       "    }\n",
       "\n",
       "    .dataframe thead th {\n",
       "        text-align: right;\n",
       "    }\n",
       "</style>\n",
       "<table border=\"1\" class=\"dataframe\">\n",
       "  <thead>\n",
       "    <tr style=\"text-align: right;\">\n",
       "      <th></th>\n",
       "      <th>cod_area</th>\n",
       "      <th>area_avaliacao</th>\n",
       "      <th>nome_ie</th>\n",
       "      <th>sigla_ie</th>\n",
       "      <th>categoria_adm</th>\n",
       "      <th>sigla_uf</th>\n",
       "      <th>conceito</th>\n",
       "    </tr>\n",
       "  </thead>\n",
       "  <tbody>\n",
       "    <tr>\n",
       "      <th>0</th>\n",
       "      <td>21</td>\n",
       "      <td>ARQUITETURA E URBANISMO</td>\n",
       "      <td>UNIVERSIDADE FEDERAL DE MATO GROSSO</td>\n",
       "      <td>UFMT</td>\n",
       "      <td>Publica</td>\n",
       "      <td>MT</td>\n",
       "      <td>4,0873</td>\n",
       "    </tr>\n",
       "    <tr>\n",
       "      <th>1</th>\n",
       "      <td>21</td>\n",
       "      <td>ARQUITETURA E URBANISMO</td>\n",
       "      <td>UNIVERSIDADE DE BRASÍLIA</td>\n",
       "      <td>UNB</td>\n",
       "      <td>Publica</td>\n",
       "      <td>DF</td>\n",
       "      <td>3,9490</td>\n",
       "    </tr>\n",
       "    <tr>\n",
       "      <th>2</th>\n",
       "      <td>21</td>\n",
       "      <td>ARQUITETURA E URBANISMO</td>\n",
       "      <td>UNIVERSIDADE DE BRASÍLIA</td>\n",
       "      <td>UNB</td>\n",
       "      <td>Publica</td>\n",
       "      <td>DF</td>\n",
       "      <td>3,3636</td>\n",
       "    </tr>\n",
       "    <tr>\n",
       "      <th>3</th>\n",
       "      <td>21</td>\n",
       "      <td>ARQUITETURA E URBANISMO</td>\n",
       "      <td>UNIVERSIDADE FEDERAL DE SERGIPE</td>\n",
       "      <td>UFS</td>\n",
       "      <td>Publica</td>\n",
       "      <td>SE</td>\n",
       "      <td>3,6794</td>\n",
       "    </tr>\n",
       "    <tr>\n",
       "      <th>4</th>\n",
       "      <td>21</td>\n",
       "      <td>ARQUITETURA E URBANISMO</td>\n",
       "      <td>UNIVERSIDADE FEDERAL DO AMAZONAS</td>\n",
       "      <td>UFAM</td>\n",
       "      <td>Publica</td>\n",
       "      <td>AM</td>\n",
       "      <td>3,3485</td>\n",
       "    </tr>\n",
       "  </tbody>\n",
       "</table>\n",
       "</div>"
      ],
      "text/plain": [
       "   cod_area           area_avaliacao                              nome_ie  \\\n",
       "0        21  ARQUITETURA E URBANISMO  UNIVERSIDADE FEDERAL DE MATO GROSSO   \n",
       "1        21  ARQUITETURA E URBANISMO             UNIVERSIDADE DE BRASÍLIA   \n",
       "2        21  ARQUITETURA E URBANISMO             UNIVERSIDADE DE BRASÍLIA   \n",
       "3        21  ARQUITETURA E URBANISMO      UNIVERSIDADE FEDERAL DE SERGIPE   \n",
       "4        21  ARQUITETURA E URBANISMO     UNIVERSIDADE FEDERAL DO AMAZONAS   \n",
       "\n",
       "  sigla_ie categoria_adm sigla_uf conceito  \n",
       "0     UFMT       Publica       MT   4,0873  \n",
       "1      UNB       Publica       DF   3,9490  \n",
       "2      UNB       Publica       DF   3,3636  \n",
       "3      UFS       Publica       SE   3,6794  \n",
       "4     UFAM       Publica       AM   3,3485  "
      ]
     },
     "execution_count": 95,
     "metadata": {},
     "output_type": "execute_result"
    }
   ],
   "source": [
    "# Filtrando as universidades publicas federais e privadas com fins lucrativos\n",
    "pubpriv = conceitos[(conceitos['categoria_adm'] == 'Privada') | (conceitos['categoria_adm'] == 'Publica')]\n",
    "# Visualizando o dataframe\n",
    "\n",
    "pubpriv.head()\n"
   ]
  },
  {
   "cell_type": "code",
   "execution_count": 96,
   "metadata": {},
   "outputs": [
    {
     "data": {
      "text/plain": [
       "Privada    2952\n",
       "Publica    2876\n",
       "Name: categoria_adm, dtype: int64"
      ]
     },
     "execution_count": 96,
     "metadata": {},
     "output_type": "execute_result"
    }
   ],
   "source": [
    "categoria_adm = pubpriv['categoria_adm'].value_counts()\n",
    "categoria_adm"
   ]
  },
  {
   "cell_type": "code",
   "execution_count": 97,
   "metadata": {
    "scrolled": true
   },
   "outputs": [
    {
     "data": {
      "text/plain": [
       "0.5065202470830473"
      ]
     },
     "execution_count": 97,
     "metadata": {},
     "output_type": "execute_result"
    }
   ],
   "source": [
    "pubpriv['categoria_adm'].value_counts(normalize=True)[0]"
   ]
  },
  {
   "cell_type": "code",
   "execution_count": 98,
   "metadata": {
    "scrolled": true
   },
   "outputs": [],
   "source": [
    "# Suprimindo os warnings da biblioteca pandas\n",
    "pd.options.mode.chained_assignment = None\n",
    "# Bibliotecas necessárias para plotar as vizualizações\n",
    "import matplotlib.pyplot as plt\n",
    "import matplotlib.patches as mpatches\n",
    "import matplotlib.ticker as mtick\n",
    "plt.style.use('ggplot')\n",
    "\n",
    "import seaborn as sns\n",
    "sns.set_style('whitegrid')\n",
    "%matplotlib inline\n",
    "# Definir o tamanho e a resolução em DPI(Dots Per Inch) das figuras plotadas.\n",
    "plt.rcParams.update({'figure.figsize':(6,4), 'figure.dpi':100})\n",
    "# Definir o estilo dos gráficos semelhantes ao ggplot\n",
    "plt.style.use('seaborn-whitegrid')\n",
    "#plt.style.use('ggplot')\n",
    "\n",
    "\n",
    "\n",
    "\n"
   ]
  },
  {
   "cell_type": "code",
   "execution_count": 99,
   "metadata": {
    "scrolled": true
   },
   "outputs": [],
   "source": [
    "categoria_adm = pubpriv['categoria_adm'].value_counts()\n"
   ]
  },
  {
   "cell_type": "code",
   "execution_count": 100,
   "metadata": {
    "scrolled": false
   },
   "outputs": [
    {
     "data": {
      "text/plain": [
       "(array([0, 1]), <a list of 2 Text xticklabel objects>)"
      ]
     },
     "execution_count": 100,
     "metadata": {},
     "output_type": "execute_result"
    },
    {
     "data": {
      "image/png": "[encoded data removed]",
      "text/plain": [
       "<Figure size 600x400 with 1 Axes>"
      ]
     },
     "metadata": {},
     "output_type": "display_data"
    }
   ],
   "source": [
    "pubpriv.categoria_adm.value_counts().plot.bar()\n",
    "plt.xticks(rotation=0)"
   ]
  },
  {
   "cell_type": "code",
   "execution_count": 101,
   "metadata": {
    "scrolled": true
   },
   "outputs": [
    {
     "data": {
      "text/html": [
       "<div>\n",
       "<style scoped>\n",
       "    .dataframe tbody tr th:only-of-type {\n",
       "        vertical-align: middle;\n",
       "    }\n",
       "\n",
       "    .dataframe tbody tr th {\n",
       "        vertical-align: top;\n",
       "    }\n",
       "\n",
       "    .dataframe thead th {\n",
       "        text-align: right;\n",
       "    }\n",
       "</style>\n",
       "<table border=\"1\" class=\"dataframe\">\n",
       "  <thead>\n",
       "    <tr style=\"text-align: right;\">\n",
       "      <th></th>\n",
       "      <th>0</th>\n",
       "      <th>1</th>\n",
       "      <th>2</th>\n",
       "      <th>3</th>\n",
       "      <th>4</th>\n",
       "      <th>5</th>\n",
       "      <th>6</th>\n",
       "      <th>7</th>\n",
       "      <th>15</th>\n",
       "      <th>35</th>\n",
       "      <th>...</th>\n",
       "      <th>10545</th>\n",
       "      <th>10546</th>\n",
       "      <th>10549</th>\n",
       "      <th>10551</th>\n",
       "      <th>10553</th>\n",
       "      <th>10556</th>\n",
       "      <th>10557</th>\n",
       "      <th>10559</th>\n",
       "      <th>10560</th>\n",
       "      <th>10567</th>\n",
       "    </tr>\n",
       "  </thead>\n",
       "  <tbody>\n",
       "    <tr>\n",
       "      <th>cod_area</th>\n",
       "      <td>21</td>\n",
       "      <td>21</td>\n",
       "      <td>21</td>\n",
       "      <td>21</td>\n",
       "      <td>21</td>\n",
       "      <td>21</td>\n",
       "      <td>21</td>\n",
       "      <td>21</td>\n",
       "      <td>21</td>\n",
       "      <td>21</td>\n",
       "      <td>...</td>\n",
       "      <td>6409</td>\n",
       "      <td>6409</td>\n",
       "      <td>6409</td>\n",
       "      <td>6409</td>\n",
       "      <td>6409</td>\n",
       "      <td>6409</td>\n",
       "      <td>6409</td>\n",
       "      <td>6409</td>\n",
       "      <td>6409</td>\n",
       "      <td>6409</td>\n",
       "    </tr>\n",
       "    <tr>\n",
       "      <th>area_avaliacao</th>\n",
       "      <td>ARQUITETURA E URBANISMO</td>\n",
       "      <td>ARQUITETURA E URBANISMO</td>\n",
       "      <td>ARQUITETURA E URBANISMO</td>\n",
       "      <td>ARQUITETURA E URBANISMO</td>\n",
       "      <td>ARQUITETURA E URBANISMO</td>\n",
       "      <td>ARQUITETURA E URBANISMO</td>\n",
       "      <td>ARQUITETURA E URBANISMO</td>\n",
       "      <td>ARQUITETURA E URBANISMO</td>\n",
       "      <td>ARQUITETURA E URBANISMO</td>\n",
       "      <td>ARQUITETURA E URBANISMO</td>\n",
       "      <td>...</td>\n",
       "      <td>TECNOLOGIA EM GESTÃO DA TECNOLOGIA DA INFORMAÇÃO</td>\n",
       "      <td>TECNOLOGIA EM GESTÃO DA TECNOLOGIA DA INFORMAÇÃO</td>\n",
       "      <td>TECNOLOGIA EM GESTÃO DA TECNOLOGIA DA INFORMAÇÃO</td>\n",
       "      <td>TECNOLOGIA EM GESTÃO DA TECNOLOGIA DA INFORMAÇÃO</td>\n",
       "      <td>TECNOLOGIA EM GESTÃO DA TECNOLOGIA DA INFORMAÇÃO</td>\n",
       "      <td>TECNOLOGIA EM GESTÃO DA TECNOLOGIA DA INFORMAÇÃO</td>\n",
       "      <td>TECNOLOGIA EM GESTÃO DA TECNOLOGIA DA INFORMAÇÃO</td>\n",
       "      <td>TECNOLOGIA EM GESTÃO DA TECNOLOGIA DA INFORMAÇÃO</td>\n",
       "      <td>TECNOLOGIA EM GESTÃO DA TECNOLOGIA DA INFORMAÇÃO</td>\n",
       "      <td>TECNOLOGIA EM GESTÃO DA TECNOLOGIA DA INFORMAÇÃO</td>\n",
       "    </tr>\n",
       "    <tr>\n",
       "      <th>nome_ie</th>\n",
       "      <td>UNIVERSIDADE FEDERAL DE MATO GROSSO</td>\n",
       "      <td>UNIVERSIDADE DE BRASÍLIA</td>\n",
       "      <td>UNIVERSIDADE DE BRASÍLIA</td>\n",
       "      <td>UNIVERSIDADE FEDERAL DE SERGIPE</td>\n",
       "      <td>UNIVERSIDADE FEDERAL DO AMAZONAS</td>\n",
       "      <td>UNIVERSIDADE FEDERAL DO PIAUÍ</td>\n",
       "      <td>UNIVERSIDADE FEDERAL DE OURO PRETO</td>\n",
       "      <td>UNIVERSIDADE FEDERAL DE VIÇOSA</td>\n",
       "      <td>UNIVERSIDADE FEDERAL DE UBERLÂNDIA</td>\n",
       "      <td>UNIVERSIDADE FEDERAL DE SÃO JOÃO DEL REI</td>\n",
       "      <td>...</td>\n",
       "      <td>FACULDADE SÃO BERNARDO DE TECNOLOGIA</td>\n",
       "      <td>INSTITUTO INFNET RIO DE JANEIRO</td>\n",
       "      <td>FACULDADE DE TECNOLOGIA FTEC</td>\n",
       "      <td>Faculdade Estácio de Carapicuíba</td>\n",
       "      <td>FACULDADE DOM PEDRO II DE TECNOLOGIA</td>\n",
       "      <td>INSTITUTO FEDERAL DE EDUCAÇÃO, CIÊNCIA E TECNO...</td>\n",
       "      <td>FACULDADE ANHANGUERA DE ITAPECERICA DA SERRA</td>\n",
       "      <td>CENTRO UNIVERSITÁRIO OPET</td>\n",
       "      <td>FACULDADE ANHANGÜERA DE BAURU</td>\n",
       "      <td>Faculdade Internacional de São Luís</td>\n",
       "    </tr>\n",
       "    <tr>\n",
       "      <th>sigla_ie</th>\n",
       "      <td>UFMT</td>\n",
       "      <td>UNB</td>\n",
       "      <td>UNB</td>\n",
       "      <td>UFS</td>\n",
       "      <td>UFAM</td>\n",
       "      <td>UFPI</td>\n",
       "      <td>UFOP</td>\n",
       "      <td>UFV</td>\n",
       "      <td>UFU</td>\n",
       "      <td>UFSJ</td>\n",
       "      <td>...</td>\n",
       "      <td>NaN</td>\n",
       "      <td>INFNET</td>\n",
       "      <td>FTEC Porto Alegre</td>\n",
       "      <td>ESTÁCIO CARAPICUÍBA</td>\n",
       "      <td>FAB</td>\n",
       "      <td>IFTO</td>\n",
       "      <td>NaN</td>\n",
       "      <td>Uniopet</td>\n",
       "      <td>NaN</td>\n",
       "      <td>ISL</td>\n",
       "    </tr>\n",
       "    <tr>\n",
       "      <th>categoria_adm</th>\n",
       "      <td>Publica</td>\n",
       "      <td>Publica</td>\n",
       "      <td>Publica</td>\n",
       "      <td>Publica</td>\n",
       "      <td>Publica</td>\n",
       "      <td>Publica</td>\n",
       "      <td>Publica</td>\n",
       "      <td>Publica</td>\n",
       "      <td>Publica</td>\n",
       "      <td>Publica</td>\n",
       "      <td>...</td>\n",
       "      <td>Privada</td>\n",
       "      <td>Privada</td>\n",
       "      <td>Privada</td>\n",
       "      <td>Privada</td>\n",
       "      <td>Privada</td>\n",
       "      <td>Publica</td>\n",
       "      <td>Privada</td>\n",
       "      <td>Privada</td>\n",
       "      <td>Privada</td>\n",
       "      <td>Privada</td>\n",
       "    </tr>\n",
       "    <tr>\n",
       "      <th>sigla_uf</th>\n",
       "      <td>MT</td>\n",
       "      <td>DF</td>\n",
       "      <td>DF</td>\n",
       "      <td>SE</td>\n",
       "      <td>AM</td>\n",
       "      <td>PI</td>\n",
       "      <td>MG</td>\n",
       "      <td>MG</td>\n",
       "      <td>MG</td>\n",
       "      <td>MG</td>\n",
       "      <td>...</td>\n",
       "      <td>SP</td>\n",
       "      <td>RJ</td>\n",
       "      <td>RS</td>\n",
       "      <td>SP</td>\n",
       "      <td>BA</td>\n",
       "      <td>TO</td>\n",
       "      <td>SP</td>\n",
       "      <td>PR</td>\n",
       "      <td>SP</td>\n",
       "      <td>MA</td>\n",
       "    </tr>\n",
       "    <tr>\n",
       "      <th>conceito</th>\n",
       "      <td>4,0873</td>\n",
       "      <td>3,9490</td>\n",
       "      <td>3,3636</td>\n",
       "      <td>3,6794</td>\n",
       "      <td>3,3485</td>\n",
       "      <td>4,1383</td>\n",
       "      <td>3,9431</td>\n",
       "      <td>4,4448</td>\n",
       "      <td>4,0584</td>\n",
       "      <td>3,8905</td>\n",
       "      <td>...</td>\n",
       "      <td>1,6278</td>\n",
       "      <td>2,4015</td>\n",
       "      <td>3,7783</td>\n",
       "      <td>1,1055</td>\n",
       "      <td>2,2251</td>\n",
       "      <td>2,3589</td>\n",
       "      <td>1,6715</td>\n",
       "      <td>2,7286</td>\n",
       "      <td>NaN</td>\n",
       "      <td>3,8570</td>\n",
       "    </tr>\n",
       "  </tbody>\n",
       "</table>\n",
       "<p>7 rows × 5828 columns</p>\n",
       "</div>"
      ],
      "text/plain": [
       "                                              0                         1      \\\n",
       "cod_area                                         21                        21   \n",
       "area_avaliacao              ARQUITETURA E URBANISMO   ARQUITETURA E URBANISMO   \n",
       "nome_ie         UNIVERSIDADE FEDERAL DE MATO GROSSO  UNIVERSIDADE DE BRASÍLIA   \n",
       "sigla_ie                                       UFMT                       UNB   \n",
       "categoria_adm                               Publica                   Publica   \n",
       "sigla_uf                                         MT                        DF   \n",
       "conceito                                     4,0873                    3,9490   \n",
       "\n",
       "                                   2                                3      \\\n",
       "cod_area                              21                               21   \n",
       "area_avaliacao   ARQUITETURA E URBANISMO          ARQUITETURA E URBANISMO   \n",
       "nome_ie         UNIVERSIDADE DE BRASÍLIA  UNIVERSIDADE FEDERAL DE SERGIPE   \n",
       "sigla_ie                             UNB                              UFS   \n",
       "categoria_adm                    Publica                          Publica   \n",
       "sigla_uf                              DF                               SE   \n",
       "conceito                          3,3636                           3,6794   \n",
       "\n",
       "                                           4      \\\n",
       "cod_area                                      21   \n",
       "area_avaliacao           ARQUITETURA E URBANISMO   \n",
       "nome_ie         UNIVERSIDADE FEDERAL DO AMAZONAS   \n",
       "sigla_ie                                    UFAM   \n",
       "categoria_adm                            Publica   \n",
       "sigla_uf                                      AM   \n",
       "conceito                                  3,3485   \n",
       "\n",
       "                                        5      \\\n",
       "cod_area                                   21   \n",
       "area_avaliacao        ARQUITETURA E URBANISMO   \n",
       "nome_ie         UNIVERSIDADE FEDERAL DO PIAUÍ   \n",
       "sigla_ie                                 UFPI   \n",
       "categoria_adm                         Publica   \n",
       "sigla_uf                                   PI   \n",
       "conceito                               4,1383   \n",
       "\n",
       "                                             6      \\\n",
       "cod_area                                        21   \n",
       "area_avaliacao             ARQUITETURA E URBANISMO   \n",
       "nome_ie         UNIVERSIDADE FEDERAL DE OURO PRETO   \n",
       "sigla_ie                                      UFOP   \n",
       "categoria_adm                              Publica   \n",
       "sigla_uf                                        MG   \n",
       "conceito                                    3,9431   \n",
       "\n",
       "                                         7      \\\n",
       "cod_area                                    21   \n",
       "area_avaliacao         ARQUITETURA E URBANISMO   \n",
       "nome_ie         UNIVERSIDADE FEDERAL DE VIÇOSA   \n",
       "sigla_ie                                   UFV   \n",
       "categoria_adm                          Publica   \n",
       "sigla_uf                                    MG   \n",
       "conceito                                4,4448   \n",
       "\n",
       "                                             15     \\\n",
       "cod_area                                        21   \n",
       "area_avaliacao             ARQUITETURA E URBANISMO   \n",
       "nome_ie         UNIVERSIDADE FEDERAL DE UBERLÂNDIA   \n",
       "sigla_ie                                       UFU   \n",
       "categoria_adm                              Publica   \n",
       "sigla_uf                                        MG   \n",
       "conceito                                    4,0584   \n",
       "\n",
       "                                                   35     ...  \\\n",
       "cod_area                                              21  ...   \n",
       "area_avaliacao                   ARQUITETURA E URBANISMO  ...   \n",
       "nome_ie         UNIVERSIDADE FEDERAL DE SÃO JOÃO DEL REI  ...   \n",
       "sigla_ie                                            UFSJ  ...   \n",
       "categoria_adm                                    Publica  ...   \n",
       "sigla_uf                                              MG  ...   \n",
       "conceito                                          3,8905  ...   \n",
       "\n",
       "                                                           10545  \\\n",
       "cod_area                                                    6409   \n",
       "area_avaliacao  TECNOLOGIA EM GESTÃO DA TECNOLOGIA DA INFORMAÇÃO   \n",
       "nome_ie                     FACULDADE SÃO BERNARDO DE TECNOLOGIA   \n",
       "sigla_ie                                                     NaN   \n",
       "categoria_adm                                            Privada   \n",
       "sigla_uf                                                      SP   \n",
       "conceito                                                  1,6278   \n",
       "\n",
       "                                                           10546  \\\n",
       "cod_area                                                    6409   \n",
       "area_avaliacao  TECNOLOGIA EM GESTÃO DA TECNOLOGIA DA INFORMAÇÃO   \n",
       "nome_ie                          INSTITUTO INFNET RIO DE JANEIRO   \n",
       "sigla_ie                                                  INFNET   \n",
       "categoria_adm                                            Privada   \n",
       "sigla_uf                                                      RJ   \n",
       "conceito                                                  2,4015   \n",
       "\n",
       "                                                           10549  \\\n",
       "cod_area                                                    6409   \n",
       "area_avaliacao  TECNOLOGIA EM GESTÃO DA TECNOLOGIA DA INFORMAÇÃO   \n",
       "nome_ie                             FACULDADE DE TECNOLOGIA FTEC   \n",
       "sigla_ie                                       FTEC Porto Alegre   \n",
       "categoria_adm                                            Privada   \n",
       "sigla_uf                                                      RS   \n",
       "conceito                                                  3,7783   \n",
       "\n",
       "                                                           10551  \\\n",
       "cod_area                                                    6409   \n",
       "area_avaliacao  TECNOLOGIA EM GESTÃO DA TECNOLOGIA DA INFORMAÇÃO   \n",
       "nome_ie                         Faculdade Estácio de Carapicuíba   \n",
       "sigla_ie                                     ESTÁCIO CARAPICUÍBA   \n",
       "categoria_adm                                            Privada   \n",
       "sigla_uf                                                      SP   \n",
       "conceito                                                  1,1055   \n",
       "\n",
       "                                                           10553  \\\n",
       "cod_area                                                    6409   \n",
       "area_avaliacao  TECNOLOGIA EM GESTÃO DA TECNOLOGIA DA INFORMAÇÃO   \n",
       "nome_ie                     FACULDADE DOM PEDRO II DE TECNOLOGIA   \n",
       "sigla_ie                                                     FAB   \n",
       "categoria_adm                                            Privada   \n",
       "sigla_uf                                                      BA   \n",
       "conceito                                                  2,2251   \n",
       "\n",
       "                                                            10556  \\\n",
       "cod_area                                                     6409   \n",
       "area_avaliacao   TECNOLOGIA EM GESTÃO DA TECNOLOGIA DA INFORMAÇÃO   \n",
       "nome_ie         INSTITUTO FEDERAL DE EDUCAÇÃO, CIÊNCIA E TECNO...   \n",
       "sigla_ie                                                     IFTO   \n",
       "categoria_adm                                             Publica   \n",
       "sigla_uf                                                       TO   \n",
       "conceito                                                   2,3589   \n",
       "\n",
       "                                                           10557  \\\n",
       "cod_area                                                    6409   \n",
       "area_avaliacao  TECNOLOGIA EM GESTÃO DA TECNOLOGIA DA INFORMAÇÃO   \n",
       "nome_ie             FACULDADE ANHANGUERA DE ITAPECERICA DA SERRA   \n",
       "sigla_ie                                                     NaN   \n",
       "categoria_adm                                            Privada   \n",
       "sigla_uf                                                      SP   \n",
       "conceito                                                  1,6715   \n",
       "\n",
       "                                                           10559  \\\n",
       "cod_area                                                    6409   \n",
       "area_avaliacao  TECNOLOGIA EM GESTÃO DA TECNOLOGIA DA INFORMAÇÃO   \n",
       "nome_ie                                CENTRO UNIVERSITÁRIO OPET   \n",
       "sigla_ie                                                 Uniopet   \n",
       "categoria_adm                                            Privada   \n",
       "sigla_uf                                                      PR   \n",
       "conceito                                                  2,7286   \n",
       "\n",
       "                                                           10560  \\\n",
       "cod_area                                                    6409   \n",
       "area_avaliacao  TECNOLOGIA EM GESTÃO DA TECNOLOGIA DA INFORMAÇÃO   \n",
       "nome_ie                            FACULDADE ANHANGÜERA DE BAURU   \n",
       "sigla_ie                                                     NaN   \n",
       "categoria_adm                                            Privada   \n",
       "sigla_uf                                                      SP   \n",
       "conceito                                                     NaN   \n",
       "\n",
       "                                                           10567  \n",
       "cod_area                                                    6409  \n",
       "area_avaliacao  TECNOLOGIA EM GESTÃO DA TECNOLOGIA DA INFORMAÇÃO  \n",
       "nome_ie                      Faculdade Internacional de São Luís  \n",
       "sigla_ie                                                     ISL  \n",
       "categoria_adm                                            Privada  \n",
       "sigla_uf                                                      MA  \n",
       "conceito                                                  3,8570  \n",
       "\n",
       "[7 rows x 5828 columns]"
      ]
     },
     "execution_count": 101,
     "metadata": {},
     "output_type": "execute_result"
    }
   ],
   "source": [
    "pubpriv.T"
   ]
  },
  {
   "cell_type": "code",
   "execution_count": 102,
   "metadata": {},
   "outputs": [
    {
     "ename": "TypeError",
     "evalue": "Empty 'DataFrame': no numeric data to plot",
     "output_type": "error",
     "traceback": [
      "\u001b[1;31m\u001b[0m",
      "\u001b[1;31mTypeError\u001b[0mTraceback (most recent call last)",
      "\u001b[1;32m<ipython-input-102-97cc36dd594f>\u001b[0m in \u001b[0;36m<module>\u001b[1;34m()\u001b[0m\n\u001b[1;32m----> 1\u001b[1;33m \u001b[0mpubpriv\u001b[0m\u001b[1;33m.\u001b[0m\u001b[0mcategoria_adm\u001b[0m\u001b[1;33m.\u001b[0m\u001b[0mplot\u001b[0m\u001b[1;33m(\u001b[0m\u001b[0mkind\u001b[0m\u001b[1;33m=\u001b[0m\u001b[1;34m'hist'\u001b[0m\u001b[1;33m,\u001b[0m \u001b[0mbins\u001b[0m\u001b[1;33m=\u001b[0m\u001b[1;36m8\u001b[0m\u001b[1;33m,\u001b[0m \u001b[0mcolor\u001b[0m\u001b[1;33m=\u001b[0m\u001b[1;34m'orange'\u001b[0m\u001b[1;33m,\u001b[0m \u001b[0medgecolor\u001b[0m\u001b[1;33m=\u001b[0m\u001b[1;34m'black'\u001b[0m\u001b[1;33m)\u001b[0m\u001b[1;33m\u001b[0m\u001b[0m\n\u001b[0m",
      "\u001b[1;32mc:\\python27\\lib\\site-packages\\pandas\\plotting\\_core.pyc\u001b[0m in \u001b[0;36m__call__\u001b[1;34m(self, kind, ax, figsize, use_index, title, grid, legend, style, logx, logy, loglog, xticks, yticks, xlim, ylim, rot, fontsize, colormap, table, yerr, xerr, label, secondary_y, **kwds)\u001b[0m\n\u001b[0;32m   2740\u001b[0m                            \u001b[0mcolormap\u001b[0m\u001b[1;33m=\u001b[0m\u001b[0mcolormap\u001b[0m\u001b[1;33m,\u001b[0m \u001b[0mtable\u001b[0m\u001b[1;33m=\u001b[0m\u001b[0mtable\u001b[0m\u001b[1;33m,\u001b[0m \u001b[0myerr\u001b[0m\u001b[1;33m=\u001b[0m\u001b[0myerr\u001b[0m\u001b[1;33m,\u001b[0m\u001b[1;33m\u001b[0m\u001b[0m\n\u001b[0;32m   2741\u001b[0m                            \u001b[0mxerr\u001b[0m\u001b[1;33m=\u001b[0m\u001b[0mxerr\u001b[0m\u001b[1;33m,\u001b[0m \u001b[0mlabel\u001b[0m\u001b[1;33m=\u001b[0m\u001b[0mlabel\u001b[0m\u001b[1;33m,\u001b[0m \u001b[0msecondary_y\u001b[0m\u001b[1;33m=\u001b[0m\u001b[0msecondary_y\u001b[0m\u001b[1;33m,\u001b[0m\u001b[1;33m\u001b[0m\u001b[0m\n\u001b[1;32m-> 2742\u001b[1;33m                            **kwds)\n\u001b[0m\u001b[0;32m   2743\u001b[0m     \u001b[0m__call__\u001b[0m\u001b[1;33m.\u001b[0m\u001b[0m__doc__\u001b[0m \u001b[1;33m=\u001b[0m \u001b[0mplot_series\u001b[0m\u001b[1;33m.\u001b[0m\u001b[0m__doc__\u001b[0m\u001b[1;33m\u001b[0m\u001b[0m\n\u001b[0;32m   2744\u001b[0m \u001b[1;33m\u001b[0m\u001b[0m\n",
      "\u001b[1;32mc:\\python27\\lib\\site-packages\\pandas\\plotting\\_core.pyc\u001b[0m in \u001b[0;36mplot_series\u001b[1;34m(data, kind, ax, figsize, use_index, title, grid, legend, style, logx, logy, loglog, xticks, yticks, xlim, ylim, rot, fontsize, colormap, table, yerr, xerr, label, secondary_y, **kwds)\u001b[0m\n\u001b[0;32m   1996\u001b[0m                  \u001b[0myerr\u001b[0m\u001b[1;33m=\u001b[0m\u001b[0myerr\u001b[0m\u001b[1;33m,\u001b[0m \u001b[0mxerr\u001b[0m\u001b[1;33m=\u001b[0m\u001b[0mxerr\u001b[0m\u001b[1;33m,\u001b[0m\u001b[1;33m\u001b[0m\u001b[0m\n\u001b[0;32m   1997\u001b[0m                  \u001b[0mlabel\u001b[0m\u001b[1;33m=\u001b[0m\u001b[0mlabel\u001b[0m\u001b[1;33m,\u001b[0m \u001b[0msecondary_y\u001b[0m\u001b[1;33m=\u001b[0m\u001b[0msecondary_y\u001b[0m\u001b[1;33m,\u001b[0m\u001b[1;33m\u001b[0m\u001b[0m\n\u001b[1;32m-> 1998\u001b[1;33m                  **kwds)\n\u001b[0m\u001b[0;32m   1999\u001b[0m \u001b[1;33m\u001b[0m\u001b[0m\n\u001b[0;32m   2000\u001b[0m \u001b[1;33m\u001b[0m\u001b[0m\n",
      "\u001b[1;32mc:\\python27\\lib\\site-packages\\pandas\\plotting\\_core.pyc\u001b[0m in \u001b[0;36m_plot\u001b[1;34m(data, x, y, subplots, ax, kind, **kwds)\u001b[0m\n\u001b[0;32m   1799\u001b[0m         \u001b[0mplot_obj\u001b[0m \u001b[1;33m=\u001b[0m \u001b[0mklass\u001b[0m\u001b[1;33m(\u001b[0m\u001b[0mdata\u001b[0m\u001b[1;33m,\u001b[0m \u001b[0msubplots\u001b[0m\u001b[1;33m=\u001b[0m\u001b[0msubplots\u001b[0m\u001b[1;33m,\u001b[0m \u001b[0max\u001b[0m\u001b[1;33m=\u001b[0m\u001b[0max\u001b[0m\u001b[1;33m,\u001b[0m \u001b[0mkind\u001b[0m\u001b[1;33m=\u001b[0m\u001b[0mkind\u001b[0m\u001b[1;33m,\u001b[0m \u001b[1;33m**\u001b[0m\u001b[0mkwds\u001b[0m\u001b[1;33m)\u001b[0m\u001b[1;33m\u001b[0m\u001b[0m\n\u001b[0;32m   1800\u001b[0m \u001b[1;33m\u001b[0m\u001b[0m\n\u001b[1;32m-> 1801\u001b[1;33m     \u001b[0mplot_obj\u001b[0m\u001b[1;33m.\u001b[0m\u001b[0mgenerate\u001b[0m\u001b[1;33m(\u001b[0m\u001b[1;33m)\u001b[0m\u001b[1;33m\u001b[0m\u001b[0m\n\u001b[0m\u001b[0;32m   1802\u001b[0m     \u001b[0mplot_obj\u001b[0m\u001b[1;33m.\u001b[0m\u001b[0mdraw\u001b[0m\u001b[1;33m(\u001b[0m\u001b[1;33m)\u001b[0m\u001b[1;33m\u001b[0m\u001b[0m\n\u001b[0;32m   1803\u001b[0m     \u001b[1;32mreturn\u001b[0m \u001b[0mplot_obj\u001b[0m\u001b[1;33m.\u001b[0m\u001b[0mresult\u001b[0m\u001b[1;33m\u001b[0m\u001b[0m\n",
      "\u001b[1;32mc:\\python27\\lib\\site-packages\\pandas\\plotting\\_core.pyc\u001b[0m in \u001b[0;36mgenerate\u001b[1;34m(self)\u001b[0m\n\u001b[0;32m    247\u001b[0m     \u001b[1;32mdef\u001b[0m \u001b[0mgenerate\u001b[0m\u001b[1;33m(\u001b[0m\u001b[0mself\u001b[0m\u001b[1;33m)\u001b[0m\u001b[1;33m:\u001b[0m\u001b[1;33m\u001b[0m\u001b[0m\n\u001b[0;32m    248\u001b[0m         \u001b[0mself\u001b[0m\u001b[1;33m.\u001b[0m\u001b[0m_args_adjust\u001b[0m\u001b[1;33m(\u001b[0m\u001b[1;33m)\u001b[0m\u001b[1;33m\u001b[0m\u001b[0m\n\u001b[1;32m--> 249\u001b[1;33m         \u001b[0mself\u001b[0m\u001b[1;33m.\u001b[0m\u001b[0m_compute_plot_data\u001b[0m\u001b[1;33m(\u001b[0m\u001b[1;33m)\u001b[0m\u001b[1;33m\u001b[0m\u001b[0m\n\u001b[0m\u001b[0;32m    250\u001b[0m         \u001b[0mself\u001b[0m\u001b[1;33m.\u001b[0m\u001b[0m_setup_subplots\u001b[0m\u001b[1;33m(\u001b[0m\u001b[1;33m)\u001b[0m\u001b[1;33m\u001b[0m\u001b[0m\n\u001b[0;32m    251\u001b[0m         \u001b[0mself\u001b[0m\u001b[1;33m.\u001b[0m\u001b[0m_make_plot\u001b[0m\u001b[1;33m(\u001b[0m\u001b[1;33m)\u001b[0m\u001b[1;33m\u001b[0m\u001b[0m\n",
      "\u001b[1;32mc:\\python27\\lib\\site-packages\\pandas\\plotting\\_core.pyc\u001b[0m in \u001b[0;36m_compute_plot_data\u001b[1;34m(self)\u001b[0m\n\u001b[0;32m    365\u001b[0m         \u001b[1;32mif\u001b[0m \u001b[0mis_empty\u001b[0m\u001b[1;33m:\u001b[0m\u001b[1;33m\u001b[0m\u001b[0m\n\u001b[0;32m    366\u001b[0m             raise TypeError('Empty {0!r}: no numeric data to '\n\u001b[1;32m--> 367\u001b[1;33m                             'plot'.format(numeric_data.__class__.__name__))\n\u001b[0m\u001b[0;32m    368\u001b[0m \u001b[1;33m\u001b[0m\u001b[0m\n\u001b[0;32m    369\u001b[0m         \u001b[0mself\u001b[0m\u001b[1;33m.\u001b[0m\u001b[0mdata\u001b[0m \u001b[1;33m=\u001b[0m \u001b[0mnumeric_data\u001b[0m\u001b[1;33m\u001b[0m\u001b[0m\n",
      "\u001b[1;31mTypeError\u001b[0m: Empty 'DataFrame': no numeric data to plot"
     ]
    }
   ],
   "source": [
    "pubpriv.categoria_adm.plot(kind='hist', bins=8, color='orange', edgecolor='black')"
   ]
  },
  {
   "cell_type": "code",
   "execution_count": 103,
   "metadata": {
    "scrolled": true
   },
   "outputs": [
    {
     "ename": "TypeError",
     "evalue": "unsupported operand type(s) for /: 'str' and 'float'",
     "output_type": "error",
     "traceback": [
      "\u001b[1;31m\u001b[0m",
      "\u001b[1;31mTypeError\u001b[0mTraceback (most recent call last)",
      "\u001b[1;32m<ipython-input-103-b355410fde96>\u001b[0m in \u001b[0;36m<module>\u001b[1;34m()\u001b[0m\n\u001b[0;32m      1\u001b[0m \u001b[0mfig\u001b[0m \u001b[1;33m=\u001b[0m \u001b[0msns\u001b[0m\u001b[1;33m.\u001b[0m\u001b[0mFacetGrid\u001b[0m\u001b[1;33m(\u001b[0m\u001b[0mpubpriv\u001b[0m\u001b[1;33m,\u001b[0m \u001b[0mcol\u001b[0m\u001b[1;33m=\u001b[0m\u001b[1;34m'categoria_adm'\u001b[0m\u001b[1;33m,\u001b[0m \u001b[0mhue\u001b[0m\u001b[1;33m=\u001b[0m\u001b[1;34m'categoria_adm'\u001b[0m\u001b[1;33m)\u001b[0m\u001b[1;33m\u001b[0m\u001b[0m\n\u001b[1;32m----> 2\u001b[1;33m \u001b[0mfig\u001b[0m\u001b[1;33m.\u001b[0m\u001b[0mmap\u001b[0m\u001b[1;33m(\u001b[0m\u001b[0msns\u001b[0m\u001b[1;33m.\u001b[0m\u001b[0mdistplot\u001b[0m\u001b[1;33m,\u001b[0m \u001b[1;34m'conceito'\u001b[0m\u001b[1;33m,\u001b[0m \u001b[0mkde\u001b[0m\u001b[1;33m=\u001b[0m\u001b[0mFalse\u001b[0m\u001b[1;33m,\u001b[0m \u001b[0mhist_kws\u001b[0m\u001b[1;33m=\u001b[0m\u001b[1;33m{\u001b[0m\u001b[1;34m'alpha'\u001b[0m\u001b[1;33m:\u001b[0m \u001b[1;36m.8\u001b[0m\u001b[1;33m}\u001b[0m\u001b[1;33m)\u001b[0m\u001b[1;33m\u001b[0m\u001b[0m\n\u001b[0m\u001b[0;32m      3\u001b[0m \u001b[0mfig\u001b[0m\u001b[1;33m.\u001b[0m\u001b[0madd_legend\u001b[0m\u001b[1;33m(\u001b[0m\u001b[1;33m)\u001b[0m\u001b[1;33m\u001b[0m\u001b[0m\n\u001b[0;32m      4\u001b[0m \u001b[0mplt\u001b[0m\u001b[1;33m.\u001b[0m\u001b[0mshow\u001b[0m\u001b[1;33m(\u001b[0m\u001b[1;33m)\u001b[0m\u001b[1;33m\u001b[0m\u001b[0m\n",
      "\u001b[1;32mc:\\python27\\lib\\site-packages\\seaborn\\axisgrid.pyc\u001b[0m in \u001b[0;36mmap\u001b[1;34m(self, func, *args, **kwargs)\u001b[0m\n\u001b[0;32m    752\u001b[0m \u001b[1;33m\u001b[0m\u001b[0m\n\u001b[0;32m    753\u001b[0m             \u001b[1;31m# Draw the plot\u001b[0m\u001b[1;33m\u001b[0m\u001b[1;33m\u001b[0m\u001b[0m\n\u001b[1;32m--> 754\u001b[1;33m             \u001b[0mself\u001b[0m\u001b[1;33m.\u001b[0m\u001b[0m_facet_plot\u001b[0m\u001b[1;33m(\u001b[0m\u001b[0mfunc\u001b[0m\u001b[1;33m,\u001b[0m \u001b[0max\u001b[0m\u001b[1;33m,\u001b[0m \u001b[0mplot_args\u001b[0m\u001b[1;33m,\u001b[0m \u001b[0mkwargs\u001b[0m\u001b[1;33m)\u001b[0m\u001b[1;33m\u001b[0m\u001b[0m\n\u001b[0m\u001b[0;32m    755\u001b[0m \u001b[1;33m\u001b[0m\u001b[0m\n\u001b[0;32m    756\u001b[0m         \u001b[1;31m# Finalize the annotations and layout\u001b[0m\u001b[1;33m\u001b[0m\u001b[1;33m\u001b[0m\u001b[0m\n",
      "\u001b[1;32mc:\\python27\\lib\\site-packages\\seaborn\\axisgrid.pyc\u001b[0m in \u001b[0;36m_facet_plot\u001b[1;34m(self, func, ax, plot_args, plot_kwargs)\u001b[0m\n\u001b[0;32m    836\u001b[0m \u001b[1;33m\u001b[0m\u001b[0m\n\u001b[0;32m    837\u001b[0m         \u001b[1;31m# Draw the plot\u001b[0m\u001b[1;33m\u001b[0m\u001b[1;33m\u001b[0m\u001b[0m\n\u001b[1;32m--> 838\u001b[1;33m         \u001b[0mfunc\u001b[0m\u001b[1;33m(\u001b[0m\u001b[1;33m*\u001b[0m\u001b[0mplot_args\u001b[0m\u001b[1;33m,\u001b[0m \u001b[1;33m**\u001b[0m\u001b[0mplot_kwargs\u001b[0m\u001b[1;33m)\u001b[0m\u001b[1;33m\u001b[0m\u001b[0m\n\u001b[0m\u001b[0;32m    839\u001b[0m \u001b[1;33m\u001b[0m\u001b[0m\n\u001b[0;32m    840\u001b[0m         \u001b[1;31m# Sort out the supporting information\u001b[0m\u001b[1;33m\u001b[0m\u001b[1;33m\u001b[0m\u001b[0m\n",
      "\u001b[1;32mc:\\python27\\lib\\site-packages\\seaborn\\distributions.pyc\u001b[0m in \u001b[0;36mdistplot\u001b[1;34m(a, bins, hist, kde, rug, fit, hist_kws, kde_kws, rug_kws, fit_kws, color, vertical, norm_hist, axlabel, label, ax)\u001b[0m\n\u001b[0;32m    213\u001b[0m     \u001b[1;32mif\u001b[0m \u001b[0mhist\u001b[0m\u001b[1;33m:\u001b[0m\u001b[1;33m\u001b[0m\u001b[0m\n\u001b[0;32m    214\u001b[0m         \u001b[1;32mif\u001b[0m \u001b[0mbins\u001b[0m \u001b[1;32mis\u001b[0m \u001b[0mNone\u001b[0m\u001b[1;33m:\u001b[0m\u001b[1;33m\u001b[0m\u001b[0m\n\u001b[1;32m--> 215\u001b[1;33m             \u001b[0mbins\u001b[0m \u001b[1;33m=\u001b[0m \u001b[0mmin\u001b[0m\u001b[1;33m(\u001b[0m\u001b[0m_freedman_diaconis_bins\u001b[0m\u001b[1;33m(\u001b[0m\u001b[0ma\u001b[0m\u001b[1;33m)\u001b[0m\u001b[1;33m,\u001b[0m \u001b[1;36m50\u001b[0m\u001b[1;33m)\u001b[0m\u001b[1;33m\u001b[0m\u001b[0m\n\u001b[0m\u001b[0;32m    216\u001b[0m         \u001b[0mhist_kws\u001b[0m\u001b[1;33m.\u001b[0m\u001b[0msetdefault\u001b[0m\u001b[1;33m(\u001b[0m\u001b[1;34m\"alpha\"\u001b[0m\u001b[1;33m,\u001b[0m \u001b[1;36m0.4\u001b[0m\u001b[1;33m)\u001b[0m\u001b[1;33m\u001b[0m\u001b[0m\n\u001b[0;32m    217\u001b[0m         \u001b[1;32mif\u001b[0m \u001b[0mLooseVersion\u001b[0m\u001b[1;33m(\u001b[0m\u001b[0mmpl\u001b[0m\u001b[1;33m.\u001b[0m\u001b[0m__version__\u001b[0m\u001b[1;33m)\u001b[0m \u001b[1;33m<\u001b[0m \u001b[0mLooseVersion\u001b[0m\u001b[1;33m(\u001b[0m\u001b[1;34m\"2.2\"\u001b[0m\u001b[1;33m)\u001b[0m\u001b[1;33m:\u001b[0m\u001b[1;33m\u001b[0m\u001b[0m\n",
      "\u001b[1;32mc:\\python27\\lib\\site-packages\\seaborn\\distributions.pyc\u001b[0m in \u001b[0;36m_freedman_diaconis_bins\u001b[1;34m(a)\u001b[0m\n\u001b[0;32m     32\u001b[0m     \u001b[1;32mif\u001b[0m \u001b[0mlen\u001b[0m\u001b[1;33m(\u001b[0m\u001b[0ma\u001b[0m\u001b[1;33m)\u001b[0m \u001b[1;33m<\u001b[0m \u001b[1;36m2\u001b[0m\u001b[1;33m:\u001b[0m\u001b[1;33m\u001b[0m\u001b[0m\n\u001b[0;32m     33\u001b[0m         \u001b[1;32mreturn\u001b[0m \u001b[1;36m1\u001b[0m\u001b[1;33m\u001b[0m\u001b[0m\n\u001b[1;32m---> 34\u001b[1;33m     \u001b[0mh\u001b[0m \u001b[1;33m=\u001b[0m \u001b[1;36m2\u001b[0m \u001b[1;33m*\u001b[0m \u001b[0miqr\u001b[0m\u001b[1;33m(\u001b[0m\u001b[0ma\u001b[0m\u001b[1;33m)\u001b[0m \u001b[1;33m/\u001b[0m \u001b[1;33m(\u001b[0m\u001b[0mlen\u001b[0m\u001b[1;33m(\u001b[0m\u001b[0ma\u001b[0m\u001b[1;33m)\u001b[0m \u001b[1;33m**\u001b[0m \u001b[1;33m(\u001b[0m\u001b[1;36m1\u001b[0m \u001b[1;33m/\u001b[0m \u001b[1;36m3\u001b[0m\u001b[1;33m)\u001b[0m\u001b[1;33m)\u001b[0m\u001b[1;33m\u001b[0m\u001b[0m\n\u001b[0m\u001b[0;32m     35\u001b[0m     \u001b[1;31m# fall back to sqrt(a) bins if iqr is 0\u001b[0m\u001b[1;33m\u001b[0m\u001b[1;33m\u001b[0m\u001b[0m\n\u001b[0;32m     36\u001b[0m     \u001b[1;32mif\u001b[0m \u001b[0mh\u001b[0m \u001b[1;33m==\u001b[0m \u001b[1;36m0\u001b[0m\u001b[1;33m:\u001b[0m\u001b[1;33m\u001b[0m\u001b[0m\n",
      "\u001b[1;32mc:\\python27\\lib\\site-packages\\seaborn\\utils.pyc\u001b[0m in \u001b[0;36miqr\u001b[1;34m(a)\u001b[0m\n\u001b[0;32m    364\u001b[0m     \u001b[1;34m\"\"\"Calculate the IQR for an array of numbers.\"\"\"\u001b[0m\u001b[1;33m\u001b[0m\u001b[0m\n\u001b[0;32m    365\u001b[0m     \u001b[0ma\u001b[0m \u001b[1;33m=\u001b[0m \u001b[0mnp\u001b[0m\u001b[1;33m.\u001b[0m\u001b[0masarray\u001b[0m\u001b[1;33m(\u001b[0m\u001b[0ma\u001b[0m\u001b[1;33m)\u001b[0m\u001b[1;33m\u001b[0m\u001b[0m\n\u001b[1;32m--> 366\u001b[1;33m     \u001b[0mq1\u001b[0m \u001b[1;33m=\u001b[0m \u001b[0mstats\u001b[0m\u001b[1;33m.\u001b[0m\u001b[0mscoreatpercentile\u001b[0m\u001b[1;33m(\u001b[0m\u001b[0ma\u001b[0m\u001b[1;33m,\u001b[0m \u001b[1;36m25\u001b[0m\u001b[1;33m)\u001b[0m\u001b[1;33m\u001b[0m\u001b[0m\n\u001b[0m\u001b[0;32m    367\u001b[0m     \u001b[0mq3\u001b[0m \u001b[1;33m=\u001b[0m \u001b[0mstats\u001b[0m\u001b[1;33m.\u001b[0m\u001b[0mscoreatpercentile\u001b[0m\u001b[1;33m(\u001b[0m\u001b[0ma\u001b[0m\u001b[1;33m,\u001b[0m \u001b[1;36m75\u001b[0m\u001b[1;33m)\u001b[0m\u001b[1;33m\u001b[0m\u001b[0m\n\u001b[0;32m    368\u001b[0m     \u001b[1;32mreturn\u001b[0m \u001b[0mq3\u001b[0m \u001b[1;33m-\u001b[0m \u001b[0mq1\u001b[0m\u001b[1;33m\u001b[0m\u001b[0m\n",
      "\u001b[1;32mc:\\python27\\lib\\site-packages\\scipy\\stats\\stats.pyc\u001b[0m in \u001b[0;36mscoreatpercentile\u001b[1;34m(a, per, limit, interpolation_method, axis)\u001b[0m\n\u001b[0;32m   1695\u001b[0m         \u001b[0maxis\u001b[0m \u001b[1;33m=\u001b[0m \u001b[1;36m0\u001b[0m\u001b[1;33m\u001b[0m\u001b[0m\n\u001b[0;32m   1696\u001b[0m \u001b[1;33m\u001b[0m\u001b[0m\n\u001b[1;32m-> 1697\u001b[1;33m     \u001b[1;32mreturn\u001b[0m \u001b[0m_compute_qth_percentile\u001b[0m\u001b[1;33m(\u001b[0m\u001b[0msorted_\u001b[0m\u001b[1;33m,\u001b[0m \u001b[0mper\u001b[0m\u001b[1;33m,\u001b[0m \u001b[0minterpolation_method\u001b[0m\u001b[1;33m,\u001b[0m \u001b[0maxis\u001b[0m\u001b[1;33m)\u001b[0m\u001b[1;33m\u001b[0m\u001b[0m\n\u001b[0m\u001b[0;32m   1698\u001b[0m \u001b[1;33m\u001b[0m\u001b[0m\n\u001b[0;32m   1699\u001b[0m \u001b[1;33m\u001b[0m\u001b[0m\n",
      "\u001b[1;32mc:\\python27\\lib\\site-packages\\scipy\\stats\\stats.pyc\u001b[0m in \u001b[0;36m_compute_qth_percentile\u001b[1;34m(sorted_, per, interpolation_method, axis)\u001b[0m\n\u001b[0;32m   1739\u001b[0m \u001b[1;33m\u001b[0m\u001b[0m\n\u001b[0;32m   1740\u001b[0m     \u001b[1;31m# Use np.add.reduce (== np.sum but a little faster) to coerce data type\u001b[0m\u001b[1;33m\u001b[0m\u001b[1;33m\u001b[0m\u001b[0m\n\u001b[1;32m-> 1741\u001b[1;33m     \u001b[1;32mreturn\u001b[0m \u001b[0mnp\u001b[0m\u001b[1;33m.\u001b[0m\u001b[0madd\u001b[0m\u001b[1;33m.\u001b[0m\u001b[0mreduce\u001b[0m\u001b[1;33m(\u001b[0m\u001b[0msorted_\u001b[0m\u001b[1;33m[\u001b[0m\u001b[0mtuple\u001b[0m\u001b[1;33m(\u001b[0m\u001b[0mindexer\u001b[0m\u001b[1;33m)\u001b[0m\u001b[1;33m]\u001b[0m \u001b[1;33m*\u001b[0m \u001b[0mweights\u001b[0m\u001b[1;33m,\u001b[0m \u001b[0maxis\u001b[0m\u001b[1;33m=\u001b[0m\u001b[0maxis\u001b[0m\u001b[1;33m)\u001b[0m \u001b[1;33m/\u001b[0m \u001b[0msumval\u001b[0m\u001b[1;33m\u001b[0m\u001b[0m\n\u001b[0m\u001b[0;32m   1742\u001b[0m \u001b[1;33m\u001b[0m\u001b[0m\n\u001b[0;32m   1743\u001b[0m \u001b[1;33m\u001b[0m\u001b[0m\n",
      "\u001b[1;31mTypeError\u001b[0m: unsupported operand type(s) for /: 'str' and 'float'"
     ]
    },
    {
     "data": {
      "image/png": "[encoded data removed]",
      "text/plain": [
       "<Figure size 600x300 with 2 Axes>"
      ]
     },
     "metadata": {},
     "output_type": "display_data"
    }
   ],
   "source": [
    "fig = sns.FacetGrid(pubpriv, col='categoria_adm', hue='categoria_adm')\n",
    "fig.map(sns.distplot, 'conceito', kde=False, hist_kws={'alpha': .8})\n",
    "fig.add_legend()\n",
    "plt.show()"
   ]
  },
  {
   "cell_type": "code",
   "execution_count": 50,
   "metadata": {
    "scrolled": true
   },
   "outputs": [
    {
     "ename": "ValueError",
     "evalue": "Neither the `x` nor `y` variable appears to be numeric.",
     "output_type": "error",
     "traceback": [
      "\u001b[1;31m\u001b[0m",
      "\u001b[1;31mValueError\u001b[0mTraceback (most recent call last)",
      "\u001b[1;32m<ipython-input-50-7d5c82e481df>\u001b[0m in \u001b[0;36m<module>\u001b[1;34m()\u001b[0m\n\u001b[0;32m      3\u001b[0m \u001b[1;31m#sns.stripplot(x='categoria_adm', y='conceito', data=pubpriv, s=5, lw=1, color='k', alpha=0.7)\u001b[0m\u001b[1;33m\u001b[0m\u001b[1;33m\u001b[0m\u001b[0m\n\u001b[0;32m      4\u001b[0m \u001b[1;31m#plt.show()\u001b[0m\u001b[1;33m\u001b[0m\u001b[1;33m\u001b[0m\u001b[0m\n\u001b[1;32m----> 5\u001b[1;33m \u001b[0max\u001b[0m \u001b[1;33m=\u001b[0m \u001b[0msns\u001b[0m\u001b[1;33m.\u001b[0m\u001b[0mboxplot\u001b[0m\u001b[1;33m(\u001b[0m\u001b[0mx\u001b[0m\u001b[1;33m=\u001b[0m\u001b[1;34m\"categoria_adm\"\u001b[0m\u001b[1;33m,\u001b[0m \u001b[0my\u001b[0m\u001b[1;33m=\u001b[0m\u001b[1;34m\"conceito\"\u001b[0m\u001b[1;33m,\u001b[0m \u001b[0mdata\u001b[0m\u001b[1;33m=\u001b[0m\u001b[0mpubpriv\u001b[0m\u001b[1;33m)\u001b[0m\u001b[1;33m\u001b[0m\u001b[0m\n\u001b[0m",
      "\u001b[1;32mc:\\python27\\lib\\site-packages\\seaborn\\categorical.pyc\u001b[0m in \u001b[0;36mboxplot\u001b[1;34m(x, y, hue, data, order, hue_order, orient, color, palette, saturation, width, dodge, fliersize, linewidth, whis, notch, ax, **kwargs)\u001b[0m\n\u001b[0;32m   2229\u001b[0m     plotter = _BoxPlotter(x, y, hue, data, order, hue_order,\n\u001b[0;32m   2230\u001b[0m                           \u001b[0morient\u001b[0m\u001b[1;33m,\u001b[0m \u001b[0mcolor\u001b[0m\u001b[1;33m,\u001b[0m \u001b[0mpalette\u001b[0m\u001b[1;33m,\u001b[0m \u001b[0msaturation\u001b[0m\u001b[1;33m,\u001b[0m\u001b[1;33m\u001b[0m\u001b[0m\n\u001b[1;32m-> 2231\u001b[1;33m                           width, dodge, fliersize, linewidth)\n\u001b[0m\u001b[0;32m   2232\u001b[0m \u001b[1;33m\u001b[0m\u001b[0m\n\u001b[0;32m   2233\u001b[0m     \u001b[1;32mif\u001b[0m \u001b[0max\u001b[0m \u001b[1;32mis\u001b[0m \u001b[0mNone\u001b[0m\u001b[1;33m:\u001b[0m\u001b[1;33m\u001b[0m\u001b[0m\n",
      "\u001b[1;32mc:\\python27\\lib\\site-packages\\seaborn\\categorical.pyc\u001b[0m in \u001b[0;36m__init__\u001b[1;34m(self, x, y, hue, data, order, hue_order, orient, color, palette, saturation, width, dodge, fliersize, linewidth)\u001b[0m\n\u001b[0;32m    444\u001b[0m                  width, dodge, fliersize, linewidth):\n\u001b[0;32m    445\u001b[0m \u001b[1;33m\u001b[0m\u001b[0m\n\u001b[1;32m--> 446\u001b[1;33m         \u001b[0mself\u001b[0m\u001b[1;33m.\u001b[0m\u001b[0mestablish_variables\u001b[0m\u001b[1;33m(\u001b[0m\u001b[0mx\u001b[0m\u001b[1;33m,\u001b[0m \u001b[0my\u001b[0m\u001b[1;33m,\u001b[0m \u001b[0mhue\u001b[0m\u001b[1;33m,\u001b[0m \u001b[0mdata\u001b[0m\u001b[1;33m,\u001b[0m \u001b[0morient\u001b[0m\u001b[1;33m,\u001b[0m \u001b[0morder\u001b[0m\u001b[1;33m,\u001b[0m \u001b[0mhue_order\u001b[0m\u001b[1;33m)\u001b[0m\u001b[1;33m\u001b[0m\u001b[0m\n\u001b[0m\u001b[0;32m    447\u001b[0m         \u001b[0mself\u001b[0m\u001b[1;33m.\u001b[0m\u001b[0mestablish_colors\u001b[0m\u001b[1;33m(\u001b[0m\u001b[0mcolor\u001b[0m\u001b[1;33m,\u001b[0m \u001b[0mpalette\u001b[0m\u001b[1;33m,\u001b[0m \u001b[0msaturation\u001b[0m\u001b[1;33m)\u001b[0m\u001b[1;33m\u001b[0m\u001b[0m\n\u001b[0;32m    448\u001b[0m \u001b[1;33m\u001b[0m\u001b[0m\n",
      "\u001b[1;32mc:\\python27\\lib\\site-packages\\seaborn\\categorical.pyc\u001b[0m in \u001b[0;36mestablish_variables\u001b[1;34m(self, x, y, hue, data, orient, order, hue_order, units)\u001b[0m\n\u001b[0;32m    156\u001b[0m \u001b[1;33m\u001b[0m\u001b[0m\n\u001b[0;32m    157\u001b[0m             \u001b[1;31m# Figure out the plotting orientation\u001b[0m\u001b[1;33m\u001b[0m\u001b[1;33m\u001b[0m\u001b[0m\n\u001b[1;32m--> 158\u001b[1;33m             \u001b[0morient\u001b[0m \u001b[1;33m=\u001b[0m \u001b[0mself\u001b[0m\u001b[1;33m.\u001b[0m\u001b[0minfer_orient\u001b[0m\u001b[1;33m(\u001b[0m\u001b[0mx\u001b[0m\u001b[1;33m,\u001b[0m \u001b[0my\u001b[0m\u001b[1;33m,\u001b[0m \u001b[0morient\u001b[0m\u001b[1;33m)\u001b[0m\u001b[1;33m\u001b[0m\u001b[0m\n\u001b[0m\u001b[0;32m    159\u001b[0m \u001b[1;33m\u001b[0m\u001b[0m\n\u001b[0;32m    160\u001b[0m             \u001b[1;31m# Option 2a:\u001b[0m\u001b[1;33m\u001b[0m\u001b[1;33m\u001b[0m\u001b[0m\n",
      "\u001b[1;32mc:\\python27\\lib\\site-packages\\seaborn\\categorical.pyc\u001b[0m in \u001b[0;36minfer_orient\u001b[1;34m(self, x, y, orient)\u001b[0m\n\u001b[0;32m    359\u001b[0m         \u001b[1;32melif\u001b[0m \u001b[0mis_not_numeric\u001b[0m\u001b[1;33m(\u001b[0m\u001b[0my\u001b[0m\u001b[1;33m)\u001b[0m\u001b[1;33m:\u001b[0m\u001b[1;33m\u001b[0m\u001b[0m\n\u001b[0;32m    360\u001b[0m             \u001b[1;32mif\u001b[0m \u001b[0mis_not_numeric\u001b[0m\u001b[1;33m(\u001b[0m\u001b[0mx\u001b[0m\u001b[1;33m)\u001b[0m\u001b[1;33m:\u001b[0m\u001b[1;33m\u001b[0m\u001b[0m\n\u001b[1;32m--> 361\u001b[1;33m                 \u001b[1;32mraise\u001b[0m \u001b[0mValueError\u001b[0m\u001b[1;33m(\u001b[0m\u001b[0mno_numeric\u001b[0m\u001b[1;33m)\u001b[0m\u001b[1;33m\u001b[0m\u001b[0m\n\u001b[0m\u001b[0;32m    362\u001b[0m             \u001b[1;32melse\u001b[0m\u001b[1;33m:\u001b[0m\u001b[1;33m\u001b[0m\u001b[0m\n\u001b[0;32m    363\u001b[0m                 \u001b[1;32mreturn\u001b[0m \u001b[1;34m\"h\"\u001b[0m\u001b[1;33m\u001b[0m\u001b[0m\n",
      "\u001b[1;31mValueError\u001b[0m: Neither the `x` nor `y` variable appears to be numeric."
     ]
    }
   ],
   "source": [
    "\n",
    "#sns.boxplot(x='categoria_adm', y='conceito', data=pubpriv, color='white')\n",
    "#sns.stripplot(x='categoria_adm', y='conceito', data=pubpriv, s=5, lw=1, color='k', alpha=0.7)\n",
    "#plt.show()\n",
    "ax = sns.boxplot(x=\"categoria_adm\", y=\"conceito\", data=pubpriv)"
   ]
  },
  {
   "cell_type": "code",
   "execution_count": null,
   "metadata": {},
   "outputs": [],
   "source": []
  },
  {
   "cell_type": "code",
   "execution_count": null,
   "metadata": {},
   "outputs": [],
   "source": []
  },
  {
   "cell_type": "code",
   "execution_count": null,
   "metadata": {
    "scrolled": true
   },
   "outputs": [],
   "source": []
  },
  {
   "cell_type": "markdown",
   "metadata": {},
   "source": [
    "## EDA"
   ]
  },
  {
   "cell_type": "code",
   "execution_count": 28,
   "metadata": {},
   "outputs": [
    {
     "ename": "ImportError",
     "evalue": "No module named matplotlib.pyplot",
     "output_type": "error",
     "traceback": [
      "\u001b[1;31m\u001b[0m",
      "\u001b[1;31mImportError\u001b[0mTraceback (most recent call last)",
      "\u001b[1;32m<ipython-input-28-756490e401f0>\u001b[0m in \u001b[0;36m<module>\u001b[1;34m()\u001b[0m\n\u001b[0;32m      2\u001b[0m \u001b[0mpd\u001b[0m\u001b[1;33m.\u001b[0m\u001b[0moptions\u001b[0m\u001b[1;33m.\u001b[0m\u001b[0mmode\u001b[0m\u001b[1;33m.\u001b[0m\u001b[0mchained_assignment\u001b[0m \u001b[1;33m=\u001b[0m \u001b[0mNone\u001b[0m\u001b[1;33m\u001b[0m\u001b[0m\n\u001b[0;32m      3\u001b[0m \u001b[1;31m# Bibliotecas de visualização de dados\u001b[0m\u001b[1;33m\u001b[0m\u001b[1;33m\u001b[0m\u001b[0m\n\u001b[1;32m----> 4\u001b[1;33m \u001b[1;32mimport\u001b[0m \u001b[0mmatplotlib\u001b[0m\u001b[1;33m.\u001b[0m\u001b[0mpyplot\u001b[0m \u001b[1;32mas\u001b[0m \u001b[0mplt\u001b[0m\u001b[1;33m\u001b[0m\u001b[0m\n\u001b[0m\u001b[0;32m      5\u001b[0m \u001b[1;32mimport\u001b[0m \u001b[0mmatplotlib\u001b[0m\u001b[1;33m.\u001b[0m\u001b[0mpatches\u001b[0m \u001b[1;32mas\u001b[0m \u001b[0mmpatches\u001b[0m\u001b[1;33m\u001b[0m\u001b[0m\n\u001b[0;32m      6\u001b[0m \u001b[1;32mimport\u001b[0m \u001b[0mmatplotlib\u001b[0m\u001b[1;33m.\u001b[0m\u001b[0mticker\u001b[0m \u001b[1;32mas\u001b[0m \u001b[0mmtick\u001b[0m\u001b[1;33m\u001b[0m\u001b[0m\n",
      "\u001b[1;31mImportError\u001b[0m: No module named matplotlib.pyplot"
     ]
    }
   ],
   "source": [
    "# Suprimindo os warnings da biblioteca pandas\n",
    "pd.options.mode.chained_assignment = None\n",
    "# Bibliotecas de visualização de dados\n",
    "import matplotlib.pyplot as plt\n",
    "import matplotlib.patches as mpatches\n",
    "import matplotlib.ticker as mtick\n",
    "import missingno as msno\n",
    "plt.style.use('ggplot')\n",
    "import seaborn as sns\n",
    "sns.set_style('whitegrid')\n",
    "%matplotlib inline"
   ]
  },
  {
   "cell_type": "code",
   "execution_count": 29,
   "metadata": {},
   "outputs": [
    {
     "ename": "NameError",
     "evalue": "name 'conceito_ccc_nordeste' is not defined",
     "output_type": "error",
     "traceback": [
      "\u001b[1;31m\u001b[0m",
      "\u001b[1;31mNameError\u001b[0mTraceback (most recent call last)",
      "\u001b[1;32m<ipython-input-29-06708d934ae4>\u001b[0m in \u001b[0;36m<module>\u001b[1;34m()\u001b[0m\n\u001b[0;32m      1\u001b[0m \u001b[1;31m# Convertendo a coluna 'CONCEITO_ENADA' para inteiro\u001b[0m\u001b[1;33m\u001b[0m\u001b[1;33m\u001b[0m\u001b[0m\n\u001b[1;32m----> 2\u001b[1;33m \u001b[0mconceito_ccc_nordeste\u001b[0m\u001b[1;33m[\u001b[0m\u001b[1;34m'CONCEITO_ENADE'\u001b[0m\u001b[1;33m]\u001b[0m \u001b[1;33m=\u001b[0m \u001b[0mconceito_ccc_nordeste\u001b[0m\u001b[1;33m[\u001b[0m\u001b[1;34m'CONCEITO_ENADE'\u001b[0m\u001b[1;33m]\u001b[0m\u001b[1;33m.\u001b[0m\u001b[0mastype\u001b[0m\u001b[1;33m(\u001b[0m\u001b[1;34m'int'\u001b[0m\u001b[1;33m)\u001b[0m\u001b[1;33m\u001b[0m\u001b[0m\n\u001b[0m",
      "\u001b[1;31mNameError\u001b[0m: name 'conceito_ccc_nordeste' is not defined"
     ]
    }
   ],
   "source": [
    "# Convertendo a coluna 'CONCEITO_ENADA' para inteiro\n",
    "conceito_ccc_nordeste['CONCEITO_ENADE'] = conceito_ccc_nordeste['CONCEITO_ENADE'].astype('int')"
   ]
  },
  {
   "cell_type": "code",
   "execution_count": 25,
   "metadata": {},
   "outputs": [
    {
     "data": {
      "image/png": "[encoded data removed]",
      "text/plain": [
       "<Figure size 720x432 with 1 Axes>"
      ]
     },
     "metadata": {
      "needs_background": "light"
     },
     "output_type": "display_data"
    }
   ],
   "source": [
    "# Definindo o tamanho da figura\n",
    "fig, ax = plt.subplots(figsize=(10,6))\n",
    "\n",
    "# Gerando a figura\n",
    "ax = sns.barplot('Sigla', 'CONCEITO_ENADE', data=conceito_ccc_nordeste.sort_values(by='CONCEITO_ENADE', ascending=False))\n",
    "\n",
    "# Título da Figura\n",
    "ax.set_title('Conceito Enade para os cursos de computação das \\nUniversidades Federais do Nordeste', fontsize=20)\n",
    "\n",
    "\n",
    "# Definindo o nome do eixo horizontal\n",
    "ax.set_xlabel('Instituição', fontsize=15)\n",
    "\n",
    "# Definindo o nome do eixo vertical\n",
    "ax.set_ylabel('Conceito ENADE', fontsize=15)\n",
    "\n",
    "# Exibindo a figura sem mensagem de retorno\n",
    "plt.show()"
   ]
  },
  {
   "cell_type": "code",
   "execution_count": null,
   "metadata": {},
   "outputs": [],
   "source": []
  },
  {
   "cell_type": "code",
   "execution_count": null,
   "metadata": {},
   "outputs": [],
   "source": []
  }
 ],
 "metadata": {
  "kernelspec": {
   "display_name": "Python 2",
   "language": "python",
   "name": "python2"
  },
  "language_info": {
   "codemirror_mode": {
    "name": "ipython",
    "version": 2
   },
   "file_extension": ".py",
   "mimetype": "text/x-python",
   "name": "python",
   "nbconvert_exporter": "python",
   "pygments_lexer": "ipython2",
   "version": "2.7.17"
  }
 },
 "nbformat": 4,
 "nbformat_minor": 2
}
